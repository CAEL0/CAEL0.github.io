{
 "cells": [
  {
   "cell_type": "code",
   "execution_count": 5,
   "metadata": {},
   "outputs": [],
   "source": [
    "import requests\n",
    "from bs4 import BeautifulSoup"
   ]
  },
  {
   "cell_type": "code",
   "execution_count": 9,
   "metadata": {},
   "outputs": [],
   "source": [
    "url = 'https://solved.ac/profile/luciaholic'\n",
    "res = requests.get(url)\n",
    "soup = BeautifulSoup(res.text, 'html.parser')"
   ]
  },
  {
   "cell_type": "code",
   "execution_count": 200,
   "metadata": {},
   "outputs": [
    {
     "data": {
      "text/plain": [
       "bs4.BeautifulSoup"
      ]
     },
     "execution_count": 200,
     "metadata": {},
     "output_type": "execute_result"
    }
   ],
   "source": [
    "type(soup)"
   ]
  },
  {
   "cell_type": "code",
   "execution_count": 10,
   "metadata": {},
   "outputs": [],
   "source": [
    "css_selector = '#__next > div.ProfileLayout__Background-sc-1nlq07q-0.bVKlxK > div.contents.no_top_margin > div:nth-child(1) > div.ProfileRatingCard__ProblemsContainer-sc-989yd6-3.kBcVFT > div:nth-child(1) > div:nth-child(1) > a > img'"
   ]
  },
  {
   "cell_type": "code",
   "execution_count": 11,
   "metadata": {},
   "outputs": [
    {
     "ename": "NotImplementedError",
     "evalue": "Only the following pseudo-classes are implemented: nth-of-type.",
     "output_type": "error",
     "traceback": [
      "\u001b[1;31m---------------------------------------------------------------------------\u001b[0m",
      "\u001b[1;31mNotImplementedError\u001b[0m                       Traceback (most recent call last)",
      "\u001b[1;32m<ipython-input-11-fe1b82e35568>\u001b[0m in \u001b[0;36m<module>\u001b[1;34m\u001b[0m\n\u001b[1;32m----> 1\u001b[1;33m \u001b[0msoup\u001b[0m\u001b[1;33m.\u001b[0m\u001b[0mselect\u001b[0m\u001b[1;33m(\u001b[0m\u001b[0mcss_selector\u001b[0m\u001b[1;33m)\u001b[0m\u001b[1;33m\u001b[0m\u001b[1;33m\u001b[0m\u001b[0m\n\u001b[0m",
      "\u001b[1;32m~\\anaconda3\\lib\\site-packages\\bs4\\element.py\u001b[0m in \u001b[0;36mselect\u001b[1;34m(self, selector, _candidate_generator, limit)\u001b[0m\n\u001b[0;32m   1530\u001b[0m                     print(\"    Running candidate generator on %s %s\" % (\n\u001b[0;32m   1531\u001b[0m                         tag.name, repr(tag.attrs)))\n\u001b[1;32m-> 1532\u001b[1;33m                 \u001b[1;32mfor\u001b[0m \u001b[0mcandidate\u001b[0m \u001b[1;32min\u001b[0m \u001b[0m_use_candidate_generator\u001b[0m\u001b[1;33m(\u001b[0m\u001b[0mtag\u001b[0m\u001b[1;33m)\u001b[0m\u001b[1;33m:\u001b[0m\u001b[1;33m\u001b[0m\u001b[1;33m\u001b[0m\u001b[0m\n\u001b[0m\u001b[0;32m   1533\u001b[0m                     \u001b[1;32mif\u001b[0m \u001b[1;32mnot\u001b[0m \u001b[0misinstance\u001b[0m\u001b[1;33m(\u001b[0m\u001b[0mcandidate\u001b[0m\u001b[1;33m,\u001b[0m \u001b[0mTag\u001b[0m\u001b[1;33m)\u001b[0m\u001b[1;33m:\u001b[0m\u001b[1;33m\u001b[0m\u001b[1;33m\u001b[0m\u001b[0m\n\u001b[0;32m   1534\u001b[0m                         \u001b[1;32mcontinue\u001b[0m\u001b[1;33m\u001b[0m\u001b[1;33m\u001b[0m\u001b[0m\n",
      "\u001b[1;32m~\\anaconda3\\lib\\site-packages\\bs4\\element.py\u001b[0m in \u001b[0;36mrecursive_select\u001b[1;34m(tag)\u001b[0m\n\u001b[0;32m   1491\u001b[0m                         \u001b[0mprint\u001b[0m\u001b[1;33m(\u001b[0m\u001b[1;34m'    Calling select(\"%s\") recursively on %s %s'\u001b[0m \u001b[1;33m%\u001b[0m \u001b[1;33m(\u001b[0m\u001b[0mnext_token\u001b[0m\u001b[1;33m,\u001b[0m \u001b[0mtag\u001b[0m\u001b[1;33m.\u001b[0m\u001b[0mname\u001b[0m\u001b[1;33m,\u001b[0m \u001b[0mtag\u001b[0m\u001b[1;33m.\u001b[0m\u001b[0mattrs\u001b[0m\u001b[1;33m)\u001b[0m\u001b[1;33m)\u001b[0m\u001b[1;33m\u001b[0m\u001b[1;33m\u001b[0m\u001b[0m\n\u001b[0;32m   1492\u001b[0m                         \u001b[0mprint\u001b[0m\u001b[1;33m(\u001b[0m\u001b[1;34m'-'\u001b[0m \u001b[1;33m*\u001b[0m \u001b[1;36m40\u001b[0m\u001b[1;33m)\u001b[0m\u001b[1;33m\u001b[0m\u001b[1;33m\u001b[0m\u001b[0m\n\u001b[1;32m-> 1493\u001b[1;33m                     \u001b[1;32mfor\u001b[0m \u001b[0mi\u001b[0m \u001b[1;32min\u001b[0m \u001b[0mtag\u001b[0m\u001b[1;33m.\u001b[0m\u001b[0mselect\u001b[0m\u001b[1;33m(\u001b[0m\u001b[0mnext_token\u001b[0m\u001b[1;33m,\u001b[0m \u001b[0mrecursive_candidate_generator\u001b[0m\u001b[1;33m)\u001b[0m\u001b[1;33m:\u001b[0m\u001b[1;33m\u001b[0m\u001b[1;33m\u001b[0m\u001b[0m\n\u001b[0m\u001b[0;32m   1494\u001b[0m                         \u001b[1;32mif\u001b[0m \u001b[0mself\u001b[0m\u001b[1;33m.\u001b[0m\u001b[0m_select_debug\u001b[0m\u001b[1;33m:\u001b[0m\u001b[1;33m\u001b[0m\u001b[1;33m\u001b[0m\u001b[0m\n\u001b[0;32m   1495\u001b[0m                             \u001b[0mprint\u001b[0m\u001b[1;33m(\u001b[0m\u001b[1;34m'(Recursive select picked up candidate %s %s)'\u001b[0m \u001b[1;33m%\u001b[0m \u001b[1;33m(\u001b[0m\u001b[0mi\u001b[0m\u001b[1;33m.\u001b[0m\u001b[0mname\u001b[0m\u001b[1;33m,\u001b[0m \u001b[0mi\u001b[0m\u001b[1;33m.\u001b[0m\u001b[0mattrs\u001b[0m\u001b[1;33m)\u001b[0m\u001b[1;33m)\u001b[0m\u001b[1;33m\u001b[0m\u001b[1;33m\u001b[0m\u001b[0m\n",
      "\u001b[1;32m~\\anaconda3\\lib\\site-packages\\bs4\\element.py\u001b[0m in \u001b[0;36mselect\u001b[1;34m(self, selector, _candidate_generator, limit)\u001b[0m\n\u001b[0;32m   1448\u001b[0m                     \u001b[0mchecker\u001b[0m \u001b[1;33m=\u001b[0m \u001b[0mCounter\u001b[0m\u001b[1;33m(\u001b[0m\u001b[0mpseudo_value\u001b[0m\u001b[1;33m)\u001b[0m\u001b[1;33m.\u001b[0m\u001b[0mnth_child_of_type\u001b[0m\u001b[1;33m\u001b[0m\u001b[1;33m\u001b[0m\u001b[0m\n\u001b[0;32m   1449\u001b[0m                 \u001b[1;32melse\u001b[0m\u001b[1;33m:\u001b[0m\u001b[1;33m\u001b[0m\u001b[1;33m\u001b[0m\u001b[0m\n\u001b[1;32m-> 1450\u001b[1;33m                     raise NotImplementedError(\n\u001b[0m\u001b[0;32m   1451\u001b[0m                         'Only the following pseudo-classes are implemented: nth-of-type.')\n\u001b[0;32m   1452\u001b[0m \u001b[1;33m\u001b[0m\u001b[0m\n",
      "\u001b[1;31mNotImplementedError\u001b[0m: Only the following pseudo-classes are implemented: nth-of-type."
     ]
    }
   ],
   "source": [
    "soup.select(css_selector)"
   ]
  },
  {
   "cell_type": "code",
   "execution_count": 15,
   "metadata": {},
   "outputs": [
    {
     "data": {
      "text/plain": [
       "'#__next > div.ProfileLayout__Background-sc-1nlq07q-0.bVKlxK > div.contents.no_top_margin > div:nth-of-type(1) > div.ProfileRatingCard__ProblemsContainer-sc-989yd6-3.kBcVFT > div:nth-of-type(1) > div:nth-of-type(1) > a > img'"
      ]
     },
     "execution_count": 15,
     "metadata": {},
     "output_type": "execute_result"
    }
   ],
   "source": [
    "css_selector.replace('nth-child', 'nth-of-type')"
   ]
  },
  {
   "cell_type": "code",
   "execution_count": 14,
   "metadata": {},
   "outputs": [
    {
     "data": {
      "text/plain": [
       "[]"
      ]
     },
     "execution_count": 14,
     "metadata": {},
     "output_type": "execute_result"
    }
   ],
   "source": [
    "soup.select(css_selector.replace('nth-child', 'nth-of-type'))"
   ]
  },
  {
   "cell_type": "code",
   "execution_count": 37,
   "metadata": {},
   "outputs": [
    {
     "data": {
      "text/plain": [
       "-1"
      ]
     },
     "execution_count": 37,
     "metadata": {},
     "output_type": "execute_result"
    }
   ],
   "source": [
    "str(soup).find('20948')"
   ]
  },
  {
   "cell_type": "code",
   "execution_count": 29,
   "metadata": {},
   "outputs": [
    {
     "data": {
      "text/plain": [
       "[<div id=\"__next\"><div><div class=\"Headerstyles__TopBarContainer-ihhhi-0 iRgIrX\"><div class=\"Headerstyles__TopBar-ihhhi-1 Headerstyles__NavigationBig-ihhhi-2 iyTOmB fnAQIS\"><nav><a href=\"/\"><div class=\"Headerstyles__Logo-ihhhi-5 ibyJWU\"></div><span class=\"Headerstyles__Version-ihhhi-6 bbkiHy\">solved.ac</span></a><ul class=\"Headerstyles__Sitemap-ihhhi-7 jZgJIF\"><li><span>문제</span><ul style=\"column-count:1\"><li><a href=\"/problems/level\">레벨</a></li><li><a href=\"/problems/tags\">태그</a></li><li><a href=\"/search\">검색</a></li><li><a href=\"/class\">CLASS</a></li></ul></li><li><span>기여</span><ul style=\"column-count:1\"><li><a href=\"/guideline\">가이드라인</a></li></ul></li><li><span>랭킹</span><ul style=\"column-count:1\"><li><a href=\"/ranking/tier\">티어</a></li><li><a href=\"/ranking/class\">CLASS</a></li><li><a href=\"/ranking/streak\">최장 스트릭</a></li><li><a href=\"/ranking/contribution\">기여</a></li><li><a href=\"/ranking/o\">단체</a></li></ul></li><li><span>정보</span><ul style=\"column-count:1\"><li><a href=\"/rules\">이용 규칙</a></li><li><a href=\"/redeem\">코드 교환</a></li><li><a href=\"/community\">커뮤니티</a></li><li><a href=\"/update_log\">업데이트 로그</a></li></ul></li><li><i class=\"material-icons\">search</i></li><li class=\"Headerstyles__SitemapRightProfile-ihhhi-8 evomHW\"><a href=\"/login?prev=%2Fprofile%2Fluciaholic\"><i class=\"material-icons\">person</i></a><ul><li><a href=\"/login?prev=%2Fprofile%2Fluciaholic\">BOJ로 로그인</a></li></ul></li></ul></nav></div><div class=\"Headerstyles__TopBarNavigationFader-ihhhi-15 eqQDeG\"><div class=\"Headerstyles__TopBarMenuFader-ihhhi-17 kcXlIR\"></div></div><div class=\"Headerstyles__NavigationCompact-ihhhi-3 kNqjZY\"><i class=\"material-icons primary\" style=\"cursor:pointer\">arrow_back</i><span class=\"Headerstyles__SiteTitle-ihhhi-4 fKwhSF\">luciaholic</span><a href=\"/\"></a><div class=\"Headerstyles__TopBarInformation-ihhhi-20 ihTlZO\"><a href=\"/\"><i class=\"material-icons\">home</i></a><i class=\"material-icons\">search</i><i class=\"material-icons\">expand_more</i></div></div><div class=\"Headerstyles__TopBarNavigationFader-ihhhi-15 Headerstyles__TopBarCompactNavigationFader-ihhhi-16 eqQDeG kdLdYm\"><div class=\"Headerstyles__TopBarCompactMenuFader-ihhhi-18 cvotBN\"><nav class=\"Headerstyles__SitemapCompact-ihhhi-9 hekxBk\"><div class=\"Headerstyles__InformationCompact-ihhhi-10 jkRjuF\"><a class=\"nounderline\" href=\"/login?prev=%2Fprofile%2Fluciaholic\"><div id=\"topbar_compact_information\"><div class=\"Headerstyles__ProfileCompact-ihhhi-11 fETKml\"><span><i class=\"material-icons\">person</i><br/>BOJ로 로그인</span></div></div></a></div><nav><ul><li><input id=\"nav-problems\" style=\"display:none\" type=\"checkbox\"/><label for=\"nav-problems\"><span>문제</span></label><ul><li><a href=\"/problems/level\">레벨</a></li><li><a href=\"/problems/tags\">태그</a></li><li><a href=\"/search\">검색</a></li><li><a href=\"/class\">CLASS</a></li></ul></li><li><input id=\"nav-contribute\" style=\"display:none\" type=\"checkbox\"/><label for=\"nav-contribute\"><span>기여</span></label><ul><li><a href=\"/guideline\">가이드라인</a></li></ul></li><li><input id=\"nav-ranking\" style=\"display:none\" type=\"checkbox\"/><label for=\"nav-ranking\"><span>랭킹</span></label><ul><li><a href=\"/ranking/tier\">티어</a></li><li><a href=\"/ranking/class\">CLASS</a></li><li><a href=\"/ranking/streak\">최장 스트릭</a></li><li><a href=\"/ranking/contribution\">기여</a></li><li><a href=\"/ranking/o\">단체</a></li></ul></li><li><input id=\"nav-information\" style=\"display:none\" type=\"checkbox\"/><label for=\"nav-information\"><span>정보</span></label><ul><li><a href=\"/rules\">이용 규칙</a></li><li><a href=\"/redeem\">코드 교환</a></li><li><a href=\"/community\">커뮤니티</a></li><li><a href=\"/update_log\">업데이트 로그</a></li></ul></li></ul></nav></nav></div></div><div class=\"Headerstyles__SearchFader-ihhhi-19 dkQSUu\"><div class=\"SearchBarstyles__MainSearchContainer-qi1rh1-0 evPSUv\"><div class=\"SearchBarstyles__MainSearch-qi1rh1-2 hTjype\"><i class=\"SearchBarstyles__SearchIcLeft-qi1rh1-3 UpEXs material-icons\">search</i><input autocomplete=\"off\" type=\"text\" value=\"\"/><label for=\"top_bar_search_input\" style=\"display:none\">검색</label><i class=\"SearchBarstyles__SearchIcRight-qi1rh1-4 bvJXwY material-icons\">arrow_forward</i></div><div class=\"SearchBarstyles__MainSearchRecommendationsWrapper-qi1rh1-8 gydwMg\"></div></div></div></div></div><div class=\"ProfileBackgroundImage__ProfileBackgroundContainer-n2knkb-0 bCneqZ\" style=\"transform:translateY(0px)\"><div class=\"ProfileBackgroundImage-n2knkb-1 dApnEB\"></div></div><div class=\"ProfileHeaderCard__ProfileHeaderCardWrapper-sc-1ds1sbv-0 dJhVPe\"><div class=\"ProfileHeaderCardstyles__ProfileHeaderCardTop-wboshd-0 iothCP\"><div class=\"solvedac-centering\"><div><div class=\"ProfileImageBig__ProfileImageContainer-sc-1jkpcax-0 DphpI\" color=\"#51fdbd\"><input style=\"display:none\" type=\"file\"/><img alt=\"luciaholic\" class=\"ProfileImageBig__UserinfoProfileImage-sc-1jkpcax-1 hZBSco\" src=\"https://static.solved.ac/uploads/profile/360x360/luciaholic-picture-1626253351135.png\"/><img alt=\"Platinum I\" class=\"ProfileImageBig__UserinfoImageSmall-sc-1jkpcax-2 eVpLwz\" src=\"https://static.solved.ac/tier_small/20.svg\"/></div><div class=\"ProfileHeaderCardstyles__UserInfoMainButtons-wboshd-1 kKrLnE\"><a href=\"https://www.acmicpc.net/user/luciaholic\"><button class=\"IconButton-sc-1ad447q-0 gtJTyV\" color=\"#0479c7\" src=\"https://static.solved.ac/misc/boj-icon.svg\"><div></div></button></a></div><div style=\"height:100px\"></div><div><span class=\"ProfileHeaderCardstyles__UserinfoName-wboshd-2 DZXqi\">luciaholic<div class=\"\" style=\"display:inline\"><span class=\"ProfileUserBadge__ProfileBadgeContainer-sc-180nly8-0 jxhVEc\"><img alt=\"1솔브\" src=\"https://static.solved.ac/profile_badge/anniversary_1st.png\"/></span></div><img alt=\"6\" class=\"ClassIconInline__ClassIconStyle-hichg2-0 cizwBr\" src=\"https://static.solved.ac/class/c6.svg\"/></span><p style=\"margin-bottom:0\"><span class=\"\">컴과 복전시켜주세요</span></p><div style=\"height:16px\"></div><span style=\"color:#51fdbd\"><b>Platinum I</b> <!-- -->2150<small class=\"description\" style=\"display:inline-block;float:right\">Diamond V<!-- --> 승급까지 −<!-- -->50</small></span><div style=\"clear:both;height:4px\"></div><div class=\"ProgressBarstyles__ProgressBarStyle-f8rb6u-0 bVFAST\"><div style=\"position:relative;height:100%;width:100%;background:#000;overflow:hidden\"><div class=\"ProgressBarstyles__ProgressBarInsets-f8rb6u-1 ProgressBarstyles__ThemedInsets-f8rb6u-4 iEjyZb kOAWjA\" style=\"width:50%\"></div><div class=\"ProgressBarstyles__ProgressBarMask-f8rb6u-3 kElBrZ\" max=\"100\" style=\"background:black\"></div></div></div><div style=\"height:16px\"></div><div class=\"ProfileHeaderCardstyles__UserMetadata-wboshd-3 jYPCBU\"><span class=\"material-icons\">place</span><a class=\"OrganizationInline_style__24pzn\" href=\"/ranking/o/331\"><span style=\"color:#000000\">●</span> <span class=\"OrganizationInline_name__1mk1s\">연세대학교</span></a></div><div style=\"height:16px\"></div><div class=\"ProfileHeaderCardstyles__UserNumberContainer-wboshd-4 jOszzV\"><span class=\"ProfileHeaderCardstyles__UserNumber-wboshd-5 eNvif\"><b>67,689,446</b><span class=\"description\"> EXP</span></span><span class=\"ProfileHeaderCardstyles__UserNumber-wboshd-5 eNvif\"><b>465</b><span class=\"description\">위</span></span><a class=\"ProfileHeaderCardstyles__UserNumber-wboshd-5 eNvif\"><b>1,024</b><span class=\"description\">문제 해결</span></a><span class=\"ProfileHeaderCardstyles__UserNumber-wboshd-5 eNvif\"><b>4</b><span class=\"description\">명의 라이벌</span></span></div><div style=\"height:16px\"></div></div></div></div></div><div><div class=\"solvedac-centering\"><div><div class=\"Tabsstyles__TabWrapper-cz3ckh-2 ehngvk\"><a href=\"/profile/luciaholic\"><div class=\"Tabsstyles__Tab-cz3ckh-0 Tabsstyles__TabCurrent-cz3ckh-1 fOmRce fZrbEm\">개요</div></a><a href=\"/profile/luciaholic/history\"><div class=\"Tabsstyles__Tab-cz3ckh-0 fOmRce\">히스토리</div></a><a href=\"/profile/luciaholic/solved\"><div class=\"Tabsstyles__Tab-cz3ckh-0 fOmRce\">문제</div></a><a href=\"/profile/luciaholic/votes\"><div class=\"Tabsstyles__Tab-cz3ckh-0 fOmRce\">기여</div></a></div></div></div></div></div><div class=\"ProfileLayout__Background-sc-1nlq07q-0 bVKlxK\"><div class=\"contents no_top_margin\"><div class=\"CommonComponents__Card-sc-9zy9np-0 jiznQQ\" style=\"padding:16px\"><span class=\"ProfileGrassCard__StreakNumber-sc-1fhmfhl-0 jyHnVG\">22</span>일 연속 문제 해결 / 최대 <b>22</b>일<div></div><div style=\"height:8px\"></div><span class=\"description\">⚠ 날짜는 한국 시각 기준으로 매일 오전 6시에 변경됩니다. 강제 갱신의 경우 반영되지 않습니다.</span></div><div style=\"height:32px\"></div><div class=\"CommonComponents__Card-sc-9zy9np-0 jiznQQ\"><div class=\"ProfileSolvedStatsCardstyles__ChartContainer-sc-1bmfkr8-0 ecRGeH\"><div></div></div><div class=\"ProfileSolvedStatsCardstyles__DataContainer-sc-1bmfkr8-1 cuRaJq\"><div class=\"ProfileSolvedStatsCardstyles__DataCategory-sc-1bmfkr8-8 equzdg\"><div class=\"ProfileSolvedStatsCardstyles__DataItem-sc-1bmfkr8-3 bfAcQc\" type=\"header\"><span class=\"ProfileSolvedStatsCardstyles__DataItemCaption-sc-1bmfkr8-2 gNFzPp\">레벨</span><div class=\"ProfileSolvedStatsCardstyles__DataItemRight-sc-1bmfkr8-6 eOhAXf\"><span class=\"ProfileSolvedStatsCardstyles__DataItemRightHide-sc-1bmfkr8-5 khnTRo\"></span><span class=\"ProfileSolvedStatsCardstyles__DataItemRightHide-sc-1bmfkr8-5 khnTRo\">문제</span><span class=\"ProfileSolvedStatsCardstyles__DataItemRightLarge-sc-1bmfkr8-4 zzqsE\"></span><span>EXP</span></div><div style=\"clear:both\"></div></div></div><div class=\"ProfileSolvedStatsCardstyles__DataCategory-sc-1bmfkr8-8 equzdg\"><input id=\"Bronze\" type=\"checkbox\"/><label for=\"Bronze\"><div class=\"ProfileSolvedStatsCardstyles__DataItem-sc-1bmfkr8-3 iULFOd\" type=\"primary\"><span class=\"ProfileSolvedStatsCardstyles__DataItemCaption-sc-1bmfkr8-2 gNFzPp bronze\">▪ <!-- -->BRONZE</span><div class=\"ProfileSolvedStatsCardstyles__DataItemRight-sc-1bmfkr8-6 eOhAXf\"><span class=\"ProfileSolvedStatsCardstyles__DataItemRightHide-sc-1bmfkr8-5 khnTRo\"><span>363</span></span><span class=\"ProfileSolvedStatsCardstyles__DataItemRightHide-sc-1bmfkr8-5 khnTRo description\">35.4<!-- -->%</span><span class=\"ProfileSolvedStatsCardstyles__DataItemRightLarge-sc-1bmfkr8-4 zzqsE\">362,172</span><span class=\"description\">0.5<!-- -->%</span></div><div style=\"clear:both\"></div></div></label><div class=\"ProfileSolvedStatsCardstyles__SubitemContainer-sc-1bmfkr8-7 jlIsAJ\"><div class=\"ProfileSolvedStatsCardstyles__DataItem-sc-1bmfkr8-3 hBdmVl\" type=\"subitem\"><span class=\"ProfileSolvedStatsCardstyles__DataItemCaption-sc-1bmfkr8-2 gNFzPp\"><span style=\"color:#9d4900\">▪ <!-- -->B5</span></span><div class=\"ProfileSolvedStatsCardstyles__DataItemRight-sc-1bmfkr8-6 eOhAXf\"><span class=\"ProfileSolvedStatsCardstyles__DataItemRightHide-sc-1bmfkr8-5 khnTRo\"><span style=\"font-weight:bold;color:#009f6b;letter-spacing:0.07ch\">62</span></span><span class=\"ProfileSolvedStatsCardstyles__DataItemRightHide-sc-1bmfkr8-5 khnTRo description\">6.1<!-- -->%</span><span class=\"ProfileSolvedStatsCardstyles__DataItemRightLarge-sc-1bmfkr8-4 zzqsE\">29,760</span><span class=\"description\">0.0<!-- -->%</span></div><div style=\"clear:both\"></div></div><div class=\"ProfileSolvedStatsCardstyles__DataItem-sc-1bmfkr8-3 hBdmVl\" type=\"subitem\"><span class=\"ProfileSolvedStatsCardstyles__DataItemCaption-sc-1bmfkr8-2 gNFzPp\"><span style=\"color:#a54f00\">▪ <!-- -->B4</span></span><div class=\"ProfileSolvedStatsCardstyles__DataItemRight-sc-1bmfkr8-6 eOhAXf\"><span class=\"ProfileSolvedStatsCardstyles__DataItemRightHide-sc-1bmfkr8-5 khnTRo\"><span>57</span></span><span class=\"ProfileSolvedStatsCardstyles__DataItemRightHide-sc-1bmfkr8-5 khnTRo description\">5.6<!-- -->%</span><span class=\"ProfileSolvedStatsCardstyles__DataItemRightLarge-sc-1bmfkr8-4 zzqsE\">38,304</span><span class=\"description\">0.1<!-- -->%</span></div><div style=\"clear:both\"></div></div><div class=\"ProfileSolvedStatsCardstyles__DataItem-sc-1bmfkr8-3 hBdmVl\" type=\"subitem\"><span class=\"ProfileSolvedStatsCardstyles__DataItemCaption-sc-1bmfkr8-2 gNFzPp\"><span style=\"color:#ad5600\">▪ <!-- -->B3</span></span><div class=\"ProfileSolvedStatsCardstyles__DataItemRight-sc-1bmfkr8-6 eOhAXf\"><span class=\"ProfileSolvedStatsCardstyles__DataItemRightHide-sc-1bmfkr8-5 khnTRo\"><span>148</span></span><span class=\"ProfileSolvedStatsCardstyles__DataItemRightHide-sc-1bmfkr8-5 khnTRo description\">14.5<!-- -->%</span><span class=\"ProfileSolvedStatsCardstyles__DataItemRightLarge-sc-1bmfkr8-4 zzqsE\">141,192</span><span class=\"description\">0.2<!-- -->%</span></div><div style=\"clear:both\"></div></div><div class=\"ProfileSolvedStatsCardstyles__DataItem-sc-1bmfkr8-3 hBdmVl\" type=\"subitem\"><span class=\"ProfileSolvedStatsCardstyles__DataItemCaption-sc-1bmfkr8-2 gNFzPp\"><span style=\"color:#b55d0a\">▪ <!-- -->B2</span></span><div class=\"ProfileSolvedStatsCardstyles__DataItemRight-sc-1bmfkr8-6 eOhAXf\"><span class=\"ProfileSolvedStatsCardstyles__DataItemRightHide-sc-1bmfkr8-5 khnTRo\"><span>62</span></span><span class=\"ProfileSolvedStatsCardstyles__DataItemRightHide-sc-1bmfkr8-5 khnTRo description\">6.1<!-- -->%</span><span class=\"ProfileSolvedStatsCardstyles__DataItemRightLarge-sc-1bmfkr8-4 zzqsE\">85,188</span><span class=\"description\">0.1<!-- -->%</span></div><div style=\"clear:both\"></div></div><div class=\"ProfileSolvedStatsCardstyles__DataItem-sc-1bmfkr8-3 hBdmVl\" type=\"subitem\"><span class=\"ProfileSolvedStatsCardstyles__DataItemCaption-sc-1bmfkr8-2 gNFzPp\"><span style=\"color:#b55d0a\">▪ <!-- -->B1</span></span><div class=\"ProfileSolvedStatsCardstyles__DataItemRight-sc-1bmfkr8-6 eOhAXf\"><span class=\"ProfileSolvedStatsCardstyles__DataItemRightHide-sc-1bmfkr8-5 khnTRo\"><span>34</span></span><span class=\"ProfileSolvedStatsCardstyles__DataItemRightHide-sc-1bmfkr8-5 khnTRo description\">3.3<!-- -->%</span><span class=\"ProfileSolvedStatsCardstyles__DataItemRightLarge-sc-1bmfkr8-4 zzqsE\">67,728</span><span class=\"description\">0.1<!-- -->%</span></div><div style=\"clear:both\"></div></div></div></div><div class=\"ProfileSolvedStatsCardstyles__DataCategory-sc-1bmfkr8-8 equzdg\"><input id=\"Silver\" type=\"checkbox\"/><label for=\"Silver\"><div class=\"ProfileSolvedStatsCardstyles__DataItem-sc-1bmfkr8-3 iULFOd\" type=\"primary\"><span class=\"ProfileSolvedStatsCardstyles__DataItemCaption-sc-1bmfkr8-2 gNFzPp silver\">▪ <!-- -->SILVER</span><div class=\"ProfileSolvedStatsCardstyles__DataItemRight-sc-1bmfkr8-6 eOhAXf\"><span class=\"ProfileSolvedStatsCardstyles__DataItemRightHide-sc-1bmfkr8-5 khnTRo\"><span>271</span></span><span class=\"ProfileSolvedStatsCardstyles__DataItemRightHide-sc-1bmfkr8-5 khnTRo description\">26.5<!-- -->%</span><span class=\"ProfileSolvedStatsCardstyles__DataItemRightLarge-sc-1bmfkr8-4 zzqsE\">2,092,435</span><span class=\"description\">3.1<!-- -->%</span></div><div style=\"clear:both\"></div></div></label><div class=\"ProfileSolvedStatsCardstyles__SubitemContainer-sc-1bmfkr8-7 jlIsAJ\"><div class=\"ProfileSolvedStatsCardstyles__DataItem-sc-1bmfkr8-3 hBdmVl\" type=\"subitem\"><span class=\"ProfileSolvedStatsCardstyles__DataItemCaption-sc-1bmfkr8-2 gNFzPp\"><span style=\"color:#38546e\">▪ <!-- -->S5</span></span><div class=\"ProfileSolvedStatsCardstyles__DataItemRight-sc-1bmfkr8-6 eOhAXf\"><span class=\"ProfileSolvedStatsCardstyles__DataItemRightHide-sc-1bmfkr8-5 khnTRo\"><span>52</span></span><span class=\"ProfileSolvedStatsCardstyles__DataItemRightHide-sc-1bmfkr8-5 khnTRo description\">5.1<!-- -->%</span><span class=\"ProfileSolvedStatsCardstyles__DataItemRightLarge-sc-1bmfkr8-4 zzqsE\">151,268</span><span class=\"description\">0.2<!-- -->%</span></div><div style=\"clear:both\"></div></div><div class=\"ProfileSolvedStatsCardstyles__DataItem-sc-1bmfkr8-3 hBdmVl\" type=\"subitem\"><span class=\"ProfileSolvedStatsCardstyles__DataItemCaption-sc-1bmfkr8-2 gNFzPp\"><span style=\"color:#3d5a74\">▪ <!-- -->S4</span></span><div class=\"ProfileSolvedStatsCardstyles__DataItemRight-sc-1bmfkr8-6 eOhAXf\"><span class=\"ProfileSolvedStatsCardstyles__DataItemRightHide-sc-1bmfkr8-5 khnTRo\"><span>48</span></span><span class=\"ProfileSolvedStatsCardstyles__DataItemRightHide-sc-1bmfkr8-5 khnTRo description\">4.7<!-- -->%</span><span class=\"ProfileSolvedStatsCardstyles__DataItemRightLarge-sc-1bmfkr8-4 zzqsE\">205,248</span><span class=\"description\">0.3<!-- -->%</span></div><div style=\"clear:both\"></div></div><div class=\"ProfileSolvedStatsCardstyles__DataItem-sc-1bmfkr8-3 hBdmVl\" type=\"subitem\"><span class=\"ProfileSolvedStatsCardstyles__DataItemCaption-sc-1bmfkr8-2 gNFzPp\"><span style=\"color:#435f7a\">▪ <!-- -->S3</span></span><div class=\"ProfileSolvedStatsCardstyles__DataItemRight-sc-1bmfkr8-6 eOhAXf\"><span class=\"ProfileSolvedStatsCardstyles__DataItemRightHide-sc-1bmfkr8-5 khnTRo\"><span>56</span></span><span class=\"ProfileSolvedStatsCardstyles__DataItemRightHide-sc-1bmfkr8-5 khnTRo description\">5.5<!-- -->%</span><span class=\"ProfileSolvedStatsCardstyles__DataItemRightLarge-sc-1bmfkr8-4 zzqsE\">354,424</span><span class=\"description\">0.5<!-- -->%</span></div><div style=\"clear:both\"></div></div><div class=\"ProfileSolvedStatsCardstyles__DataItem-sc-1bmfkr8-3 hBdmVl\" type=\"subitem\"><span class=\"ProfileSolvedStatsCardstyles__DataItemCaption-sc-1bmfkr8-2 gNFzPp\"><span style=\"color:#496580\">▪ <!-- -->S2</span></span><div class=\"ProfileSolvedStatsCardstyles__DataItemRight-sc-1bmfkr8-6 eOhAXf\"><span class=\"ProfileSolvedStatsCardstyles__DataItemRightHide-sc-1bmfkr8-5 khnTRo\"><span>52</span></span><span class=\"ProfileSolvedStatsCardstyles__DataItemRightHide-sc-1bmfkr8-5 khnTRo description\">5.1<!-- -->%</span><span class=\"ProfileSolvedStatsCardstyles__DataItemRightLarge-sc-1bmfkr8-4 zzqsE\">490,360</span><span class=\"description\">0.7<!-- -->%</span></div><div style=\"clear:both\"></div></div><div class=\"ProfileSolvedStatsCardstyles__DataItem-sc-1bmfkr8-3 hBdmVl\" type=\"subitem\"><span class=\"ProfileSolvedStatsCardstyles__DataItemCaption-sc-1bmfkr8-2 gNFzPp\"><span style=\"color:#4e6a86\">▪ <!-- -->S1</span></span><div class=\"ProfileSolvedStatsCardstyles__DataItemRight-sc-1bmfkr8-6 eOhAXf\"><span class=\"ProfileSolvedStatsCardstyles__DataItemRightHide-sc-1bmfkr8-5 khnTRo\"><span>63</span></span><span class=\"ProfileSolvedStatsCardstyles__DataItemRightHide-sc-1bmfkr8-5 khnTRo description\">6.2<!-- -->%</span><span class=\"ProfileSolvedStatsCardstyles__DataItemRightLarge-sc-1bmfkr8-4 zzqsE\">891,135</span><span class=\"description\">1.3<!-- -->%</span></div><div style=\"clear:both\"></div></div></div></div><div class=\"ProfileSolvedStatsCardstyles__DataCategory-sc-1bmfkr8-8 equzdg\"><input id=\"Gold\" type=\"checkbox\"/><label for=\"Gold\"><div class=\"ProfileSolvedStatsCardstyles__DataItem-sc-1bmfkr8-3 iULFOd\" type=\"primary\"><span class=\"ProfileSolvedStatsCardstyles__DataItemCaption-sc-1bmfkr8-2 gNFzPp gold\">▪ <!-- -->GOLD</span><div class=\"ProfileSolvedStatsCardstyles__DataItemRight-sc-1bmfkr8-6 eOhAXf\"><span class=\"ProfileSolvedStatsCardstyles__DataItemRightHide-sc-1bmfkr8-5 khnTRo\"><span>266</span></span><span class=\"ProfileSolvedStatsCardstyles__DataItemRightHide-sc-1bmfkr8-5 khnTRo description\">26.0<!-- -->%</span><span class=\"ProfileSolvedStatsCardstyles__DataItemRightLarge-sc-1bmfkr8-4 zzqsE\">14,673,452</span><span class=\"description\">21.7<!-- -->%</span></div><div style=\"clear:both\"></div></div></label><div class=\"ProfileSolvedStatsCardstyles__SubitemContainer-sc-1bmfkr8-7 jlIsAJ\"><div class=\"ProfileSolvedStatsCardstyles__DataItem-sc-1bmfkr8-3 hBdmVl\" type=\"subitem\"><span class=\"ProfileSolvedStatsCardstyles__DataItemCaption-sc-1bmfkr8-2 gNFzPp\"><span style=\"color:#d28500\">▪ <!-- -->G5</span></span><div class=\"ProfileSolvedStatsCardstyles__DataItemRight-sc-1bmfkr8-6 eOhAXf\"><span class=\"ProfileSolvedStatsCardstyles__DataItemRightHide-sc-1bmfkr8-5 khnTRo\"><span>50</span></span><span class=\"ProfileSolvedStatsCardstyles__DataItemRightHide-sc-1bmfkr8-5 khnTRo description\">4.9<!-- -->%</span><span class=\"ProfileSolvedStatsCardstyles__DataItemRightLarge-sc-1bmfkr8-4 zzqsE\">1,064,400</span><span class=\"description\">1.6<!-- -->%</span></div><div style=\"clear:both\"></div></div><div class=\"ProfileSolvedStatsCardstyles__DataItem-sc-1bmfkr8-3 hBdmVl\" type=\"subitem\"><span class=\"ProfileSolvedStatsCardstyles__DataItemCaption-sc-1bmfkr8-2 gNFzPp\"><span style=\"color:#df8f00\">▪ <!-- -->G4</span></span><div class=\"ProfileSolvedStatsCardstyles__DataItemRight-sc-1bmfkr8-6 eOhAXf\"><span class=\"ProfileSolvedStatsCardstyles__DataItemRightHide-sc-1bmfkr8-5 khnTRo\"><span>69</span></span><span class=\"ProfileSolvedStatsCardstyles__DataItemRightHide-sc-1bmfkr8-5 khnTRo description\">6.7<!-- -->%</span><span class=\"ProfileSolvedStatsCardstyles__DataItemRightLarge-sc-1bmfkr8-4 zzqsE\">2,218,005</span><span class=\"description\">3.3<!-- -->%</span></div><div style=\"clear:both\"></div></div><div class=\"ProfileSolvedStatsCardstyles__DataItem-sc-1bmfkr8-3 hBdmVl\" type=\"subitem\"><span class=\"ProfileSolvedStatsCardstyles__DataItemCaption-sc-1bmfkr8-2 gNFzPp\"><span style=\"color:#ec9a00\">▪ <!-- -->G3</span></span><div class=\"ProfileSolvedStatsCardstyles__DataItemRight-sc-1bmfkr8-6 eOhAXf\"><span class=\"ProfileSolvedStatsCardstyles__DataItemRightHide-sc-1bmfkr8-5 khnTRo\"><span>52</span></span><span class=\"ProfileSolvedStatsCardstyles__DataItemRightHide-sc-1bmfkr8-5 khnTRo description\">5.1<!-- -->%</span><span class=\"ProfileSolvedStatsCardstyles__DataItemRightLarge-sc-1bmfkr8-4 zzqsE\">2,532,348</span><span class=\"description\">3.7<!-- -->%</span></div><div style=\"clear:both\"></div></div><div class=\"ProfileSolvedStatsCardstyles__DataItem-sc-1bmfkr8-3 hBdmVl\" type=\"subitem\"><span class=\"ProfileSolvedStatsCardstyles__DataItemCaption-sc-1bmfkr8-2 gNFzPp\"><span style=\"color:#f9a518\">▪ <!-- -->G2</span></span><div class=\"ProfileSolvedStatsCardstyles__DataItemRight-sc-1bmfkr8-6 eOhAXf\"><span class=\"ProfileSolvedStatsCardstyles__DataItemRightHide-sc-1bmfkr8-5 khnTRo\"><span>48</span></span><span class=\"ProfileSolvedStatsCardstyles__DataItemRightHide-sc-1bmfkr8-5 khnTRo description\">4.7<!-- -->%</span><span class=\"ProfileSolvedStatsCardstyles__DataItemRightLarge-sc-1bmfkr8-4 zzqsE\">3,553,104</span><span class=\"description\">5.2<!-- -->%</span></div><div style=\"clear:both\"></div></div><div class=\"ProfileSolvedStatsCardstyles__DataItem-sc-1bmfkr8-3 hBdmVl\" type=\"subitem\"><span class=\"ProfileSolvedStatsCardstyles__DataItemCaption-sc-1bmfkr8-2 gNFzPp\"><span style=\"color:#ffb028\">▪ <!-- -->G1</span></span><div class=\"ProfileSolvedStatsCardstyles__DataItemRight-sc-1bmfkr8-6 eOhAXf\"><span class=\"ProfileSolvedStatsCardstyles__DataItemRightHide-sc-1bmfkr8-5 khnTRo\"><span>47</span></span><span class=\"ProfileSolvedStatsCardstyles__DataItemRightHide-sc-1bmfkr8-5 khnTRo description\">4.6<!-- -->%</span><span class=\"ProfileSolvedStatsCardstyles__DataItemRightLarge-sc-1bmfkr8-4 zzqsE\">5,305,595</span><span class=\"description\">7.8<!-- -->%</span></div><div style=\"clear:both\"></div></div></div></div><div class=\"ProfileSolvedStatsCardstyles__DataCategory-sc-1bmfkr8-8 equzdg\"><input id=\"Platinum\" type=\"checkbox\"/><label for=\"Platinum\"><div class=\"ProfileSolvedStatsCardstyles__DataItem-sc-1bmfkr8-3 iULFOd\" type=\"primary\"><span class=\"ProfileSolvedStatsCardstyles__DataItemCaption-sc-1bmfkr8-2 gNFzPp platinum\">▪ <!-- -->PLATINUM</span><div class=\"ProfileSolvedStatsCardstyles__DataItemRight-sc-1bmfkr8-6 eOhAXf\"><span class=\"ProfileSolvedStatsCardstyles__DataItemRightHide-sc-1bmfkr8-5 khnTRo\"><span>118</span></span><span class=\"ProfileSolvedStatsCardstyles__DataItemRightHide-sc-1bmfkr8-5 khnTRo description\">11.5<!-- -->%</span><span class=\"ProfileSolvedStatsCardstyles__DataItemRightLarge-sc-1bmfkr8-4 zzqsE\">39,244,535</span><span class=\"description\">58.0<!-- -->%</span></div><div style=\"clear:both\"></div></div></label><div class=\"ProfileSolvedStatsCardstyles__SubitemContainer-sc-1bmfkr8-7 jlIsAJ\"><div class=\"ProfileSolvedStatsCardstyles__DataItem-sc-1bmfkr8-3 hBdmVl\" type=\"subitem\"><span class=\"ProfileSolvedStatsCardstyles__DataItemCaption-sc-1bmfkr8-2 gNFzPp\"><span style=\"color:#00c78b\">▪ <!-- -->P5</span></span><div class=\"ProfileSolvedStatsCardstyles__DataItemRight-sc-1bmfkr8-6 eOhAXf\"><span class=\"ProfileSolvedStatsCardstyles__DataItemRightHide-sc-1bmfkr8-5 khnTRo\"><span>49</span></span><span class=\"ProfileSolvedStatsCardstyles__DataItemRightHide-sc-1bmfkr8-5 khnTRo description\">4.8<!-- -->%</span><span class=\"ProfileSolvedStatsCardstyles__DataItemRightLarge-sc-1bmfkr8-4 zzqsE\">8,462,986</span><span class=\"description\">12.5<!-- -->%</span></div><div style=\"clear:both\"></div></div><div class=\"ProfileSolvedStatsCardstyles__DataItem-sc-1bmfkr8-3 hBdmVl\" type=\"subitem\"><span class=\"ProfileSolvedStatsCardstyles__DataItemCaption-sc-1bmfkr8-2 gNFzPp\"><span style=\"color:#00d497\">▪ <!-- -->P4</span></span><div class=\"ProfileSolvedStatsCardstyles__DataItemRight-sc-1bmfkr8-6 eOhAXf\"><span class=\"ProfileSolvedStatsCardstyles__DataItemRightHide-sc-1bmfkr8-5 khnTRo\"><span>30</span></span><span class=\"ProfileSolvedStatsCardstyles__DataItemRightHide-sc-1bmfkr8-5 khnTRo description\">2.9<!-- -->%</span><span class=\"ProfileSolvedStatsCardstyles__DataItemRightLarge-sc-1bmfkr8-4 zzqsE\">7,953,510</span><span class=\"description\">11.8<!-- -->%</span></div><div style=\"clear:both\"></div></div><div class=\"ProfileSolvedStatsCardstyles__DataItem-sc-1bmfkr8-3 hBdmVl\" type=\"subitem\"><span class=\"ProfileSolvedStatsCardstyles__DataItemCaption-sc-1bmfkr8-2 gNFzPp\"><span style=\"color:#27e2a4\">▪ <!-- -->P3</span></span><div class=\"ProfileSolvedStatsCardstyles__DataItemRight-sc-1bmfkr8-6 eOhAXf\"><span class=\"ProfileSolvedStatsCardstyles__DataItemRightHide-sc-1bmfkr8-5 khnTRo\"><span>22</span></span><span class=\"ProfileSolvedStatsCardstyles__DataItemRightHide-sc-1bmfkr8-5 khnTRo description\">2.1<!-- -->%</span><span class=\"ProfileSolvedStatsCardstyles__DataItemRightLarge-sc-1bmfkr8-4 zzqsE\">8,982,160</span><span class=\"description\">13.3<!-- -->%</span></div><div style=\"clear:both\"></div></div><div class=\"ProfileSolvedStatsCardstyles__DataItem-sc-1bmfkr8-3 hBdmVl\" type=\"subitem\"><span class=\"ProfileSolvedStatsCardstyles__DataItemCaption-sc-1bmfkr8-2 gNFzPp\"><span style=\"color:#3ef0b1\">▪ <!-- -->P2</span></span><div class=\"ProfileSolvedStatsCardstyles__DataItemRight-sc-1bmfkr8-6 eOhAXf\"><span class=\"ProfileSolvedStatsCardstyles__DataItemRightHide-sc-1bmfkr8-5 khnTRo\"><span>8</span></span><span class=\"ProfileSolvedStatsCardstyles__DataItemRightHide-sc-1bmfkr8-5 khnTRo description\">0.8<!-- -->%</span><span class=\"ProfileSolvedStatsCardstyles__DataItemRightLarge-sc-1bmfkr8-4 zzqsE\">5,046,336</span><span class=\"description\">7.5<!-- -->%</span></div><div style=\"clear:both\"></div></div><div class=\"ProfileSolvedStatsCardstyles__DataItem-sc-1bmfkr8-3 hBdmVl\" type=\"subitem\"><span class=\"ProfileSolvedStatsCardstyles__DataItemCaption-sc-1bmfkr8-2 gNFzPp\"><span style=\"color:#51fdbd\">▪ <!-- -->P1</span></span><div class=\"ProfileSolvedStatsCardstyles__DataItemRight-sc-1bmfkr8-6 eOhAXf\"><span class=\"ProfileSolvedStatsCardstyles__DataItemRightHide-sc-1bmfkr8-5 khnTRo\"><span>9</span></span><span class=\"ProfileSolvedStatsCardstyles__DataItemRightHide-sc-1bmfkr8-5 khnTRo description\">0.9<!-- -->%</span><span class=\"ProfileSolvedStatsCardstyles__DataItemRightLarge-sc-1bmfkr8-4 zzqsE\">8,799,543</span><span class=\"description\">13.0<!-- -->%</span></div><div style=\"clear:both\"></div></div></div></div><div class=\"ProfileSolvedStatsCardstyles__DataCategory-sc-1bmfkr8-8 equzdg\"><input id=\"Diamond\" type=\"checkbox\"/><label for=\"Diamond\"><div class=\"ProfileSolvedStatsCardstyles__DataItem-sc-1bmfkr8-3 iULFOd\" type=\"primary\"><span class=\"ProfileSolvedStatsCardstyles__DataItemCaption-sc-1bmfkr8-2 gNFzPp diamond\">▪ <!-- -->DIAMOND</span><div class=\"ProfileSolvedStatsCardstyles__DataItemRight-sc-1bmfkr8-6 eOhAXf\"><span class=\"ProfileSolvedStatsCardstyles__DataItemRightHide-sc-1bmfkr8-5 khnTRo\"><span>6</span></span><span class=\"ProfileSolvedStatsCardstyles__DataItemRightHide-sc-1bmfkr8-5 khnTRo description\">0.6<!-- -->%</span><span class=\"ProfileSolvedStatsCardstyles__DataItemRightLarge-sc-1bmfkr8-4 zzqsE\">11,313,652</span><span class=\"description\">16.7<!-- -->%</span></div><div style=\"clear:both\"></div></div></label><div class=\"ProfileSolvedStatsCardstyles__SubitemContainer-sc-1bmfkr8-7 jlIsAJ\"><div class=\"ProfileSolvedStatsCardstyles__DataItem-sc-1bmfkr8-3 hBdmVl\" type=\"subitem\"><span class=\"ProfileSolvedStatsCardstyles__DataItemCaption-sc-1bmfkr8-2 gNFzPp\"><span style=\"color:#009ee5\">▪ <!-- -->D5</span></span><div class=\"ProfileSolvedStatsCardstyles__DataItemRight-sc-1bmfkr8-6 eOhAXf\"><span class=\"ProfileSolvedStatsCardstyles__DataItemRightHide-sc-1bmfkr8-5 khnTRo\"><span>5</span></span><span class=\"ProfileSolvedStatsCardstyles__DataItemRightHide-sc-1bmfkr8-5 khnTRo description\">0.5<!-- -->%</span><span class=\"ProfileSolvedStatsCardstyles__DataItemRightLarge-sc-1bmfkr8-4 zzqsE\">7,601,830</span><span class=\"description\">11.2<!-- -->%</span></div><div style=\"clear:both\"></div></div><div class=\"ProfileSolvedStatsCardstyles__DataItem-sc-1bmfkr8-3 hBdmVl\" type=\"subitem\"><span class=\"ProfileSolvedStatsCardstyles__DataItemCaption-sc-1bmfkr8-2 gNFzPp\"><span style=\"color:#00a9f0\">▪ <!-- -->D4</span></span><div class=\"ProfileSolvedStatsCardstyles__DataItemRight-sc-1bmfkr8-6 eOhAXf\"><span class=\"ProfileSolvedStatsCardstyles__DataItemRightHide-sc-1bmfkr8-5 khnTRo\"><span>0</span></span><span class=\"ProfileSolvedStatsCardstyles__DataItemRightHide-sc-1bmfkr8-5 khnTRo description\">0.0<!-- -->%</span><span class=\"ProfileSolvedStatsCardstyles__DataItemRightLarge-sc-1bmfkr8-4 zzqsE\">0</span><span class=\"description\">0.0<!-- -->%</span></div><div style=\"clear:both\"></div></div><div class=\"ProfileSolvedStatsCardstyles__DataItem-sc-1bmfkr8-3 hBdmVl\" type=\"subitem\"><span class=\"ProfileSolvedStatsCardstyles__DataItemCaption-sc-1bmfkr8-2 gNFzPp\"><span style=\"color:#00b4fc\">▪ <!-- -->D3</span></span><div class=\"ProfileSolvedStatsCardstyles__DataItemRight-sc-1bmfkr8-6 eOhAXf\"><span class=\"ProfileSolvedStatsCardstyles__DataItemRightHide-sc-1bmfkr8-5 khnTRo\"><span>1</span></span><span class=\"ProfileSolvedStatsCardstyles__DataItemRightHide-sc-1bmfkr8-5 khnTRo description\">0.1<!-- -->%</span><span class=\"ProfileSolvedStatsCardstyles__DataItemRightLarge-sc-1bmfkr8-4 zzqsE\">3,711,822</span><span class=\"description\">5.5<!-- -->%</span></div><div style=\"clear:both\"></div></div><div class=\"ProfileSolvedStatsCardstyles__DataItem-sc-1bmfkr8-3 hBdmVl\" type=\"subitem\"><span class=\"ProfileSolvedStatsCardstyles__DataItemCaption-sc-1bmfkr8-2 gNFzPp\"><span style=\"color:#2bbfff\">▪ <!-- -->D2</span></span><div class=\"ProfileSolvedStatsCardstyles__DataItemRight-sc-1bmfkr8-6 eOhAXf\"><span class=\"ProfileSolvedStatsCardstyles__DataItemRightHide-sc-1bmfkr8-5 khnTRo\"><span>0</span></span><span class=\"ProfileSolvedStatsCardstyles__DataItemRightHide-sc-1bmfkr8-5 khnTRo description\">0.0<!-- -->%</span><span class=\"ProfileSolvedStatsCardstyles__DataItemRightLarge-sc-1bmfkr8-4 zzqsE\">0</span><span class=\"description\">0.0<!-- -->%</span></div><div style=\"clear:both\"></div></div><div class=\"ProfileSolvedStatsCardstyles__DataItem-sc-1bmfkr8-3 hBdmVl\" type=\"subitem\"><span class=\"ProfileSolvedStatsCardstyles__DataItemCaption-sc-1bmfkr8-2 gNFzPp\"><span style=\"color:#41caff\">▪ <!-- -->D1</span></span><div class=\"ProfileSolvedStatsCardstyles__DataItemRight-sc-1bmfkr8-6 eOhAXf\"><span class=\"ProfileSolvedStatsCardstyles__DataItemRightHide-sc-1bmfkr8-5 khnTRo\"><span>0</span></span><span class=\"ProfileSolvedStatsCardstyles__DataItemRightHide-sc-1bmfkr8-5 khnTRo description\">0.0<!-- -->%</span><span class=\"ProfileSolvedStatsCardstyles__DataItemRightLarge-sc-1bmfkr8-4 zzqsE\">0</span><span class=\"description\">0.0<!-- -->%</span></div><div style=\"clear:both\"></div></div></div></div><div class=\"ProfileSolvedStatsCardstyles__DataCategory-sc-1bmfkr8-8 equzdg\"><input id=\"Ruby\" type=\"checkbox\"/><label for=\"Ruby\"><div class=\"ProfileSolvedStatsCardstyles__DataItem-sc-1bmfkr8-3 iULFOd\" type=\"primary\"><span class=\"ProfileSolvedStatsCardstyles__DataItemCaption-sc-1bmfkr8-2 gNFzPp ruby\">▪ <!-- -->RUBY</span><div class=\"ProfileSolvedStatsCardstyles__DataItemRight-sc-1bmfkr8-6 eOhAXf\"><span class=\"ProfileSolvedStatsCardstyles__DataItemRightHide-sc-1bmfkr8-5 khnTRo\"><span>0</span></span><span class=\"ProfileSolvedStatsCardstyles__DataItemRightHide-sc-1bmfkr8-5 khnTRo description\">0.0<!-- -->%</span><span class=\"ProfileSolvedStatsCardstyles__DataItemRightLarge-sc-1bmfkr8-4 zzqsE\">0</span><span class=\"description\">0.0<!-- -->%</span></div><div style=\"clear:both\"></div></div></label><div class=\"ProfileSolvedStatsCardstyles__SubitemContainer-sc-1bmfkr8-7 jlIsAJ\"><div class=\"ProfileSolvedStatsCardstyles__DataItem-sc-1bmfkr8-3 hBdmVl\" type=\"subitem\"><span class=\"ProfileSolvedStatsCardstyles__DataItemCaption-sc-1bmfkr8-2 gNFzPp\"><span style=\"color:#e0004c\">▪ <!-- -->R5</span></span><div class=\"ProfileSolvedStatsCardstyles__DataItemRight-sc-1bmfkr8-6 eOhAXf\"><span class=\"ProfileSolvedStatsCardstyles__DataItemRightHide-sc-1bmfkr8-5 khnTRo\"><span>0</span></span><span class=\"ProfileSolvedStatsCardstyles__DataItemRightHide-sc-1bmfkr8-5 khnTRo description\">0.0<!-- -->%</span><span class=\"ProfileSolvedStatsCardstyles__DataItemRightLarge-sc-1bmfkr8-4 zzqsE\">0</span><span class=\"description\">0.0<!-- -->%</span></div><div style=\"clear:both\"></div></div><div class=\"ProfileSolvedStatsCardstyles__DataItem-sc-1bmfkr8-3 hBdmVl\" type=\"subitem\"><span class=\"ProfileSolvedStatsCardstyles__DataItemCaption-sc-1bmfkr8-2 gNFzPp\"><span style=\"color:#ea0053\">▪ <!-- -->R4</span></span><div class=\"ProfileSolvedStatsCardstyles__DataItemRight-sc-1bmfkr8-6 eOhAXf\"><span class=\"ProfileSolvedStatsCardstyles__DataItemRightHide-sc-1bmfkr8-5 khnTRo\"><span>0</span></span><span class=\"ProfileSolvedStatsCardstyles__DataItemRightHide-sc-1bmfkr8-5 khnTRo description\">0.0<!-- -->%</span><span class=\"ProfileSolvedStatsCardstyles__DataItemRightLarge-sc-1bmfkr8-4 zzqsE\">0</span><span class=\"description\">0.0<!-- -->%</span></div><div style=\"clear:both\"></div></div><div class=\"ProfileSolvedStatsCardstyles__DataItem-sc-1bmfkr8-3 hBdmVl\" type=\"subitem\"><span class=\"ProfileSolvedStatsCardstyles__DataItemCaption-sc-1bmfkr8-2 gNFzPp\"><span style=\"color:#f5005a\">▪ <!-- -->R3</span></span><div class=\"ProfileSolvedStatsCardstyles__DataItemRight-sc-1bmfkr8-6 eOhAXf\"><span class=\"ProfileSolvedStatsCardstyles__DataItemRightHide-sc-1bmfkr8-5 khnTRo\"><span>0</span></span><span class=\"ProfileSolvedStatsCardstyles__DataItemRightHide-sc-1bmfkr8-5 khnTRo description\">0.0<!-- -->%</span><span class=\"ProfileSolvedStatsCardstyles__DataItemRightLarge-sc-1bmfkr8-4 zzqsE\">0</span><span class=\"description\">0.0<!-- -->%</span></div><div style=\"clear:both\"></div></div><div class=\"ProfileSolvedStatsCardstyles__DataItem-sc-1bmfkr8-3 hBdmVl\" type=\"subitem\"><span class=\"ProfileSolvedStatsCardstyles__DataItemCaption-sc-1bmfkr8-2 gNFzPp\"><span style=\"color:#ff0062\">▪ <!-- -->R2</span></span><div class=\"ProfileSolvedStatsCardstyles__DataItemRight-sc-1bmfkr8-6 eOhAXf\"><span class=\"ProfileSolvedStatsCardstyles__DataItemRightHide-sc-1bmfkr8-5 khnTRo\"><span>0</span></span><span class=\"ProfileSolvedStatsCardstyles__DataItemRightHide-sc-1bmfkr8-5 khnTRo description\">0.0<!-- -->%</span><span class=\"ProfileSolvedStatsCardstyles__DataItemRightLarge-sc-1bmfkr8-4 zzqsE\">0</span><span class=\"description\">0.0<!-- -->%</span></div><div style=\"clear:both\"></div></div><div class=\"ProfileSolvedStatsCardstyles__DataItem-sc-1bmfkr8-3 hBdmVl\" type=\"subitem\"><span class=\"ProfileSolvedStatsCardstyles__DataItemCaption-sc-1bmfkr8-2 gNFzPp\"><span style=\"color:#ff3071\">▪ <!-- -->R1</span></span><div class=\"ProfileSolvedStatsCardstyles__DataItemRight-sc-1bmfkr8-6 eOhAXf\"><span class=\"ProfileSolvedStatsCardstyles__DataItemRightHide-sc-1bmfkr8-5 khnTRo\"><span>0</span></span><span class=\"ProfileSolvedStatsCardstyles__DataItemRightHide-sc-1bmfkr8-5 khnTRo description\">0.0<!-- -->%</span><span class=\"ProfileSolvedStatsCardstyles__DataItemRightLarge-sc-1bmfkr8-4 zzqsE\">0</span><span class=\"description\">0.0<!-- -->%</span></div><div style=\"clear:both\"></div></div></div></div></div><div style=\"clear:both\"></div></div><div style=\"height:32px\"></div><div class=\"CommonComponents__Card-sc-9zy9np-0 jiznQQ\"><div class=\"ProfileSolvedStatsCardstyles__ChartContainer-sc-1bmfkr8-0 ecRGeH\"><div></div></div><div class=\"ProfileSolvedStatsCardstyles__DataContainer-sc-1bmfkr8-1 cuRaJq\"><div class=\"ProfileSolvedStatsCardstyles__DataCategory-sc-1bmfkr8-8 equzdg\"><div class=\"ProfileSolvedStatsCardstyles__DataItem-sc-1bmfkr8-3 bfAcQc\" type=\"header\"><span class=\"ProfileSolvedStatsCardstyles__DataItemCaption-sc-1bmfkr8-2 gNFzPp\">태그</span><div class=\"ProfileSolvedStatsCardstyles__DataItemRight-sc-1bmfkr8-6 eOhAXf\"><span class=\"ProfileSolvedStatsCardstyles__DataItemRightHide-sc-1bmfkr8-5 khnTRo\"></span><span class=\"ProfileSolvedStatsCardstyles__DataItemRightHide-sc-1bmfkr8-5 khnTRo\">문제</span><span class=\"ProfileSolvedStatsCardstyles__DataItemRightLarge-sc-1bmfkr8-4 zzqsE\"></span><span>EXP</span></div><div style=\"clear:both\"></div></div></div><div class=\"ProfileSolvedStatsCardstyles__DataCategory-sc-1bmfkr8-8 equzdg\"><div class=\"ProfileSolvedStatsCardstyles__DataItem-sc-1bmfkr8-3 bFdBXS\" type=\"tag\"><span class=\"ProfileSolvedStatsCardstyles__DataItemCaption-sc-1bmfkr8-2 gNFzPp\">▪ <!-- -->수학</span><div class=\"ProfileSolvedStatsCardstyles__DataItemRight-sc-1bmfkr8-6 eOhAXf\"><span class=\"ProfileSolvedStatsCardstyles__DataItemRightHide-sc-1bmfkr8-5 khnTRo\">432</span><span class=\"ProfileSolvedStatsCardstyles__DataItemRightHide-sc-1bmfkr8-5 khnTRo description\">42.2<!-- -->%</span><span class=\"ProfileSolvedStatsCardstyles__DataItemRightLarge-sc-1bmfkr8-4 zzqsE\">19,608,803</span><span class=\"description\">29.0<!-- -->%</span></div><div style=\"clear:both\"></div></div></div><div class=\"ProfileSolvedStatsCardstyles__DataCategory-sc-1bmfkr8-8 equzdg\"><div class=\"ProfileSolvedStatsCardstyles__DataItem-sc-1bmfkr8-3 bFdBXS\" type=\"tag\"><span class=\"ProfileSolvedStatsCardstyles__DataItemCaption-sc-1bmfkr8-2 gNFzPp\">▪ <!-- -->그래프 이론</span><div class=\"ProfileSolvedStatsCardstyles__DataItemRight-sc-1bmfkr8-6 eOhAXf\"><span class=\"ProfileSolvedStatsCardstyles__DataItemRightHide-sc-1bmfkr8-5 khnTRo\">164</span><span class=\"ProfileSolvedStatsCardstyles__DataItemRightHide-sc-1bmfkr8-5 khnTRo description\">16.0<!-- -->%</span><span class=\"ProfileSolvedStatsCardstyles__DataItemRightLarge-sc-1bmfkr8-4 zzqsE\">19,178,623</span><span class=\"description\">28.3<!-- -->%</span></div><div style=\"clear:both\"></div></div></div><div class=\"ProfileSolvedStatsCardstyles__DataCategory-sc-1bmfkr8-8 equzdg\"><div class=\"ProfileSolvedStatsCardstyles__DataItem-sc-1bmfkr8-3 bFdBXS\" type=\"tag\"><span class=\"ProfileSolvedStatsCardstyles__DataItemCaption-sc-1bmfkr8-2 gNFzPp\">▪ <!-- -->자료 구조</span><div class=\"ProfileSolvedStatsCardstyles__DataItemRight-sc-1bmfkr8-6 eOhAXf\"><span class=\"ProfileSolvedStatsCardstyles__DataItemRightHide-sc-1bmfkr8-5 khnTRo\">118</span><span class=\"ProfileSolvedStatsCardstyles__DataItemRightHide-sc-1bmfkr8-5 khnTRo description\">11.5<!-- -->%</span><span class=\"ProfileSolvedStatsCardstyles__DataItemRightLarge-sc-1bmfkr8-4 zzqsE\">16,352,828</span><span class=\"description\">24.2<!-- -->%</span></div><div style=\"clear:both\"></div></div></div><div class=\"ProfileSolvedStatsCardstyles__DataCategory-sc-1bmfkr8-8 equzdg\"><div class=\"ProfileSolvedStatsCardstyles__DataItem-sc-1bmfkr8-3 bFdBXS\" type=\"tag\"><span class=\"ProfileSolvedStatsCardstyles__DataItemCaption-sc-1bmfkr8-2 gNFzPp\">▪ <!-- -->세그먼트 트리</span><div class=\"ProfileSolvedStatsCardstyles__DataItemRight-sc-1bmfkr8-6 eOhAXf\"><span class=\"ProfileSolvedStatsCardstyles__DataItemRightHide-sc-1bmfkr8-5 khnTRo\">43</span><span class=\"ProfileSolvedStatsCardstyles__DataItemRightHide-sc-1bmfkr8-5 khnTRo description\">4.2<!-- -->%</span><span class=\"ProfileSolvedStatsCardstyles__DataItemRightLarge-sc-1bmfkr8-4 zzqsE\">12,038,729</span><span class=\"description\">17.8<!-- -->%</span></div><div style=\"clear:both\"></div></div></div><div class=\"ProfileSolvedStatsCardstyles__DataCategory-sc-1bmfkr8-8 equzdg\"><div class=\"ProfileSolvedStatsCardstyles__DataItem-sc-1bmfkr8-3 bFdBXS\" type=\"tag\"><span class=\"ProfileSolvedStatsCardstyles__DataItemCaption-sc-1bmfkr8-2 gNFzPp\">▪ <!-- -->강한 연결 요소</span><div class=\"ProfileSolvedStatsCardstyles__DataItemRight-sc-1bmfkr8-6 eOhAXf\"><span class=\"ProfileSolvedStatsCardstyles__DataItemRightHide-sc-1bmfkr8-5 khnTRo\">24</span><span class=\"ProfileSolvedStatsCardstyles__DataItemRightHide-sc-1bmfkr8-5 khnTRo description\">2.3<!-- -->%</span><span class=\"ProfileSolvedStatsCardstyles__DataItemRightLarge-sc-1bmfkr8-4 zzqsE\">11,686,291</span><span class=\"description\">17.3<!-- -->%</span></div><div style=\"clear:both\"></div></div></div><div class=\"ProfileSolvedStatsCardstyles__DataCategory-sc-1bmfkr8-8 equzdg\"><div class=\"ProfileSolvedStatsCardstyles__DataItem-sc-1bmfkr8-3 bFdBXS\" type=\"tag\"><span class=\"ProfileSolvedStatsCardstyles__DataItemCaption-sc-1bmfkr8-2 gNFzPp\">▪ <!-- -->정수론</span><div class=\"ProfileSolvedStatsCardstyles__DataItemRight-sc-1bmfkr8-6 eOhAXf\"><span class=\"ProfileSolvedStatsCardstyles__DataItemRightHide-sc-1bmfkr8-5 khnTRo\">101</span><span class=\"ProfileSolvedStatsCardstyles__DataItemRightHide-sc-1bmfkr8-5 khnTRo description\">9.9<!-- -->%</span><span class=\"ProfileSolvedStatsCardstyles__DataItemRightLarge-sc-1bmfkr8-4 zzqsE\">11,608,932</span><span class=\"description\">17.2<!-- -->%</span></div><div style=\"clear:both\"></div></div></div><div class=\"ProfileSolvedStatsCardstyles__DataCategory-sc-1bmfkr8-8 equzdg\"><div class=\"ProfileSolvedStatsCardstyles__DataItem-sc-1bmfkr8-3 bFdBXS\" type=\"tag\"><span class=\"ProfileSolvedStatsCardstyles__DataItemCaption-sc-1bmfkr8-2 gNFzPp\">▪ <!-- -->다이나믹 프로그래밍</span><div class=\"ProfileSolvedStatsCardstyles__DataItemRight-sc-1bmfkr8-6 eOhAXf\"><span class=\"ProfileSolvedStatsCardstyles__DataItemRightHide-sc-1bmfkr8-5 khnTRo\">105</span><span class=\"ProfileSolvedStatsCardstyles__DataItemRightHide-sc-1bmfkr8-5 khnTRo description\">10.3<!-- -->%</span><span class=\"ProfileSolvedStatsCardstyles__DataItemRightLarge-sc-1bmfkr8-4 zzqsE\">9,201,711</span><span class=\"description\">13.6<!-- -->%</span></div><div style=\"clear:both\"></div></div></div><div class=\"ProfileSolvedStatsCardstyles__DataCategory-sc-1bmfkr8-8 equzdg\"><div class=\"ProfileSolvedStatsCardstyles__DataItem-sc-1bmfkr8-3 bFdBXS\" type=\"tag\"><span class=\"ProfileSolvedStatsCardstyles__DataItemCaption-sc-1bmfkr8-2 gNFzPp\">▪ <!-- -->2-sat</span><div class=\"ProfileSolvedStatsCardstyles__DataItemRight-sc-1bmfkr8-6 eOhAXf\"><span class=\"ProfileSolvedStatsCardstyles__DataItemRightHide-sc-1bmfkr8-5 khnTRo\">16</span><span class=\"ProfileSolvedStatsCardstyles__DataItemRightHide-sc-1bmfkr8-5 khnTRo description\">1.6<!-- -->%</span><span class=\"ProfileSolvedStatsCardstyles__DataItemRightLarge-sc-1bmfkr8-4 zzqsE\">9,190,563</span><span class=\"description\">13.6<!-- -->%</span></div><div style=\"clear:both\"></div></div></div><div class=\"ProfileSolvedStatsCardstyles__DataCategory-sc-1bmfkr8-8 equzdg\"><div class=\"ProfileSolvedStatsCardstyles__DataItem-sc-1bmfkr8-3 bFdBXS\" type=\"tag\"><span class=\"ProfileSolvedStatsCardstyles__DataItemCaption-sc-1bmfkr8-2 gNFzPp\">▪ <!-- -->소수 판정</span><div class=\"ProfileSolvedStatsCardstyles__DataItemRight-sc-1bmfkr8-6 eOhAXf\"><span class=\"ProfileSolvedStatsCardstyles__DataItemRightHide-sc-1bmfkr8-5 khnTRo\">44</span><span class=\"ProfileSolvedStatsCardstyles__DataItemRightHide-sc-1bmfkr8-5 khnTRo description\">4.3<!-- -->%</span><span class=\"ProfileSolvedStatsCardstyles__DataItemRightLarge-sc-1bmfkr8-4 zzqsE\">8,254,061</span><span class=\"description\">12.2<!-- -->%</span></div><div style=\"clear:both\"></div></div></div><div class=\"ProfileSolvedStatsCardstyles__DataCategory-sc-1bmfkr8-8 equzdg\"><div class=\"ProfileSolvedStatsCardstyles__DataItem-sc-1bmfkr8-3 bFdBXS\" type=\"tag\"><span class=\"ProfileSolvedStatsCardstyles__DataItemCaption-sc-1bmfkr8-2 gNFzPp\">▪ <!-- -->밀러–라빈 소수 판별법</span><div class=\"ProfileSolvedStatsCardstyles__DataItemRight-sc-1bmfkr8-6 eOhAXf\"><span class=\"ProfileSolvedStatsCardstyles__DataItemRightHide-sc-1bmfkr8-5 khnTRo\">5</span><span class=\"ProfileSolvedStatsCardstyles__DataItemRightHide-sc-1bmfkr8-5 khnTRo description\">0.5<!-- -->%</span><span class=\"ProfileSolvedStatsCardstyles__DataItemRightLarge-sc-1bmfkr8-4 zzqsE\">5,600,170</span><span class=\"description\">8.3<!-- -->%</span></div><div style=\"clear:both\"></div></div></div><div class=\"ProfileSolvedStatsCardstyles__DataCategory-sc-1bmfkr8-8 equzdg\"><div class=\"ProfileSolvedStatsCardstyles__DataItem-sc-1bmfkr8-3 bFdBXS\" type=\"tag\"><span class=\"ProfileSolvedStatsCardstyles__DataItemCaption-sc-1bmfkr8-2 gNFzPp\">▪ <!-- -->폴라드 로</span><div class=\"ProfileSolvedStatsCardstyles__DataItemRight-sc-1bmfkr8-6 eOhAXf\"><span class=\"ProfileSolvedStatsCardstyles__DataItemRightHide-sc-1bmfkr8-5 khnTRo\">4</span><span class=\"ProfileSolvedStatsCardstyles__DataItemRightHide-sc-1bmfkr8-5 khnTRo description\">0.4<!-- -->%</span><span class=\"ProfileSolvedStatsCardstyles__DataItemRightLarge-sc-1bmfkr8-4 zzqsE\">4,969,378</span><span class=\"description\">7.3<!-- -->%</span></div><div style=\"clear:both\"></div></div></div><div class=\"ProfileSolvedStatsCardstyles__DataCategory-sc-1bmfkr8-8 equzdg\"><div class=\"ProfileSolvedStatsCardstyles__DataItem-sc-1bmfkr8-3 bFdBXS\" type=\"tag\"><span class=\"ProfileSolvedStatsCardstyles__DataItemCaption-sc-1bmfkr8-2 gNFzPp\">▪ <!-- -->분할 정복을 이용한 거듭제곱</span><div class=\"ProfileSolvedStatsCardstyles__DataItemRight-sc-1bmfkr8-6 eOhAXf\"><span class=\"ProfileSolvedStatsCardstyles__DataItemRightHide-sc-1bmfkr8-5 khnTRo\">24</span><span class=\"ProfileSolvedStatsCardstyles__DataItemRightHide-sc-1bmfkr8-5 khnTRo description\">2.3<!-- -->%</span><span class=\"ProfileSolvedStatsCardstyles__DataItemRightLarge-sc-1bmfkr8-4 zzqsE\">4,378,699</span><span class=\"description\">6.5<!-- -->%</span></div><div style=\"clear:both\"></div></div></div><div class=\"ProfileSolvedStatsCardstyles__DataCategory-sc-1bmfkr8-8 equzdg\"><div class=\"ProfileSolvedStatsCardstyles__DataItem-sc-1bmfkr8-3 bFdBXS\" type=\"tag\"><span class=\"ProfileSolvedStatsCardstyles__DataItemCaption-sc-1bmfkr8-2 gNFzPp\">▪ <!-- -->기하학</span><div class=\"ProfileSolvedStatsCardstyles__DataItemRight-sc-1bmfkr8-6 eOhAXf\"><span class=\"ProfileSolvedStatsCardstyles__DataItemRightHide-sc-1bmfkr8-5 khnTRo\">46</span><span class=\"ProfileSolvedStatsCardstyles__DataItemRightHide-sc-1bmfkr8-5 khnTRo description\">4.5<!-- -->%</span><span class=\"ProfileSolvedStatsCardstyles__DataItemRightLarge-sc-1bmfkr8-4 zzqsE\">4,084,679</span><span class=\"description\">6.0<!-- -->%</span></div><div style=\"clear:both\"></div></div></div><div class=\"ProfileSolvedStatsCardstyles__DataCategory-sc-1bmfkr8-8 equzdg\"><div class=\"ProfileSolvedStatsCardstyles__DataItem-sc-1bmfkr8-3 bFdBXS\" type=\"tag\"><span class=\"ProfileSolvedStatsCardstyles__DataItemCaption-sc-1bmfkr8-2 gNFzPp\">▪ <!-- -->트리</span><div class=\"ProfileSolvedStatsCardstyles__DataItemRight-sc-1bmfkr8-6 eOhAXf\"><span class=\"ProfileSolvedStatsCardstyles__DataItemRightHide-sc-1bmfkr8-5 khnTRo\">26</span><span class=\"ProfileSolvedStatsCardstyles__DataItemRightHide-sc-1bmfkr8-5 khnTRo description\">2.5<!-- -->%</span><span class=\"ProfileSolvedStatsCardstyles__DataItemRightLarge-sc-1bmfkr8-4 zzqsE\">4,048,774</span><span class=\"description\">6.0<!-- -->%</span></div><div style=\"clear:both\"></div></div></div><div class=\"ProfileSolvedStatsCardstyles__DataCategory-sc-1bmfkr8-8 equzdg\"><div class=\"ProfileSolvedStatsCardstyles__DataItem-sc-1bmfkr8-3 bFdBXS\" type=\"tag\"><span class=\"ProfileSolvedStatsCardstyles__DataItemCaption-sc-1bmfkr8-2 gNFzPp\">▪ <!-- -->최대 유량</span><div class=\"ProfileSolvedStatsCardstyles__DataItemRight-sc-1bmfkr8-6 eOhAXf\"><span class=\"ProfileSolvedStatsCardstyles__DataItemRightHide-sc-1bmfkr8-5 khnTRo\">1</span><span class=\"ProfileSolvedStatsCardstyles__DataItemRightHide-sc-1bmfkr8-5 khnTRo description\">0.1<!-- -->%</span><span class=\"ProfileSolvedStatsCardstyles__DataItemRightLarge-sc-1bmfkr8-4 zzqsE\">3,711,822</span><span class=\"description\">5.5<!-- -->%</span></div><div style=\"clear:both\"></div></div></div><div class=\"ProfileSolvedStatsCardstyles__ToggleMoreLess-sc-1bmfkr8-9 ieJbg\"><span class=\"material-icons\">expand_more</span> <!-- -->더 보기</div></div><div style=\"clear:both\"></div></div><div style=\"height:32px\"></div><div class=\"CommonComponents__Card-sc-9zy9np-0 jiznQQ\" style=\"padding:16px\">뱃지<br/><span class=\"ProfileUnlockedBadgesCard__BadgeCount-sc-4az8lf-0 LXOdH\">1</span>개<br/><div class=\"ProfileUnlockedBadgesCard__BadgeContainer-sc-4az8lf-1 iPGwxS\"><div class=\"\" style=\"display:inline\"><div class=\"BadgeDisplay__BadgeContainer-sc-7eyid3-0 eKutOg\"><img alt=\"1솔브\" src=\"https://static.solved.ac/profile_badge/anniversary_1st.png\"/></div></div></div></div><div style=\"height:32px\"></div><div class=\"description\">⚠ 해결한 문제가 미해결으로 표시되어 있거나, 다른 표시된 정보들이 올바르지 않은 것 같다면<!-- --> <a href=\"javascript:void(0)\">강제로 정보를 갱신</a>할 수 있습니다.</div></div><div style=\"height:32px\"></div></div><ins class=\"adsbygoogle\" data-ad-client=\"ca-pub-0359268919701085\" data-ad-slot=\"1994805468\" data-full-width-responsive=\"true\" style=\"display:block;width:100%;height:280px\"></ins><footer class=\"Footerstyles__FooterStyle-sc-169lix6-0 fOInTM\"><div class=\"contents\"><p><b>solved.ac</b> by shiftpsh<br/><a href=\"https://twitter.com/solved_ac\" rel=\"noreferrer\" target=\"_blank\">twitter</a> <a href=\"https://facebook.com/solvedac\" rel=\"noreferrer\" target=\"_blank\">facebook</a></p><p>powered by<!-- --> <a href=\"https://shiftpsh.com\" rel=\"noreferrer\" target=\"_blank\">shiftpsh.com</a>, <a href=\"https://startlink.io/\" rel=\"noreferrer\" target=\"_blank\">Startlink</a>, and<!-- --> <a href=\"https://acm.sogang.ac.kr\" rel=\"noreferrer\" target=\"_blank\">Sogang ICPC Team</a>.<br/>© 2019 - <!-- -->2021<!-- --> <a href=\"https://shiftpsh.com\" rel=\"noreferrer\" target=\"_blank\">shiftpsh.com</a>.</p><p>Baekjoon Online Judge is a trademark of Startlink Inc.</p><p><b>buy me a coffee!</b> <u>kakaopay</u> ·<a href=\"https://paypal.me/shiftpsh\" rel=\"noreferrer\" target=\"_blank\">paypal</a></p></div></footer><div id=\"modal_container\"></div></div>]"
      ]
     },
     "execution_count": 29,
     "metadata": {},
     "output_type": "execute_result"
    }
   ],
   "source": [
    "soup.select('body div#__next')"
   ]
  },
  {
   "cell_type": "code",
   "execution_count": 38,
   "metadata": {},
   "outputs": [],
   "source": [
    "from selenium import webdriver\n",
    "from selenium.webdriver.common.keys import Keys"
   ]
  },
  {
   "cell_type": "code",
   "execution_count": 39,
   "metadata": {},
   "outputs": [],
   "source": [
    "path = 'C:/Users/USER/Desktop/종민/YBIGTA/2021-2 교육세션/0805 크롤링/chromedriver.exe'"
   ]
  },
  {
   "cell_type": "code",
   "execution_count": 53,
   "metadata": {},
   "outputs": [],
   "source": [
    "driver = webdriver.Chrome(path)"
   ]
  },
  {
   "cell_type": "code",
   "execution_count": 66,
   "metadata": {},
   "outputs": [],
   "source": [
    "driver.get('https://solved.ac')"
   ]
  },
  {
   "cell_type": "code",
   "execution_count": 76,
   "metadata": {},
   "outputs": [],
   "source": [
    "search = driver.find_element_by_css_selector('#__next > div:nth-child(1) > div > div.Headerstyles__TopBar-ihhhi-1.Headerstyles__NavigationBig-ihhhi-2.iyTOmB.fnAQIS > nav > ul > li.Headerstyles__SitemapRightProfile-ihhhi-8.evomHW > a > i')"
   ]
  },
  {
   "cell_type": "code",
   "execution_count": 94,
   "metadata": {},
   "outputs": [],
   "source": [
    "search.click()"
   ]
  },
  {
   "cell_type": "code",
   "execution_count": 79,
   "metadata": {},
   "outputs": [],
   "source": [
    "search = driver.find_element_by_css_selector('#login_form > div:nth-child(2) > input')"
   ]
  },
  {
   "cell_type": "code",
   "execution_count": 82,
   "metadata": {},
   "outputs": [],
   "source": [
    "search.send_keys('luciaholic')"
   ]
  },
  {
   "cell_type": "code",
   "execution_count": 86,
   "metadata": {},
   "outputs": [],
   "source": [
    "search.send_keys(Keys.TAB)"
   ]
  },
  {
   "cell_type": "code",
   "execution_count": 93,
   "metadata": {},
   "outputs": [],
   "source": [
    "search = driver.find_element_by_css_selector('#submit_button')"
   ]
  },
  {
   "cell_type": "code",
   "execution_count": 95,
   "metadata": {},
   "outputs": [],
   "source": [
    "search = driver.find_element_by_css_selector('#login_form > div:nth-child(4) > div:nth-child(2) > a')"
   ]
  },
  {
   "cell_type": "code",
   "execution_count": 96,
   "metadata": {},
   "outputs": [],
   "source": [
    "search.send_keys(Keys.ENTER)"
   ]
  },
  {
   "cell_type": "code",
   "execution_count": 106,
   "metadata": {},
   "outputs": [],
   "source": [
    "search = driver.find_element_by_css_selector('#__next > div.ProfileLayout__Background-sc-1nlq07q-0.bVKlxK > div.contents.no_top_margin > div:nth-child(1) > div.ProfileRatingCard__ProblemsContainer-sc-989yd6-3.kBcVFT > div:nth-child(1) > div:nth-child(1) > a > img')"
   ]
  },
  {
   "cell_type": "code",
   "execution_count": 112,
   "metadata": {},
   "outputs": [
    {
     "data": {
      "text/plain": [
       "'Diamond III'"
      ]
     },
     "execution_count": 112,
     "metadata": {},
     "output_type": "execute_result"
    }
   ],
   "source": [
    "search.get_attribute('alt')"
   ]
  },
  {
   "cell_type": "code",
   "execution_count": 114,
   "metadata": {},
   "outputs": [],
   "source": [
    "problem_containers = driver.find_element_by_css_selector('#__next > div.ProfileLayout__Background-sc-1nlq07q-0.bVKlxK > div.contents.no_top_margin > div:nth-child(1) > div.ProfileRatingCard__ProblemsContainer-sc-989yd6-3.kBcVFT')"
   ]
  },
  {
   "cell_type": "code",
   "execution_count": null,
   "metadata": {},
   "outputs": [],
   "source": [
    "#__next > div.ProfileLayout__Background-sc-1nlq07q-0.bVKlxK > div.contents.no_top_margin > div:nth-child(1) > div.ProfileRatingCard__ProblemsContainer-sc-989yd6-3.kBcVFT > div:nth-child(6) > div:nth-child(1) > a > img"
   ]
  },
  {
   "cell_type": "code",
   "execution_count": 177,
   "metadata": {},
   "outputs": [],
   "source": [
    "container = problem_containers.find_element_by_css_selector('div:nth-child(6)')"
   ]
  },
  {
   "cell_type": "code",
   "execution_count": 178,
   "metadata": {},
   "outputs": [
    {
     "ename": "NoSuchElementException",
     "evalue": "Message: no such element: Unable to locate element: {\"method\":\"css selector\",\"selector\":\"div:nth-child(1) > a > img\"}\n  (Session info: chrome=92.0.4515.131)\n",
     "output_type": "error",
     "traceback": [
      "\u001b[1;31m---------------------------------------------------------------------------\u001b[0m",
      "\u001b[1;31mNoSuchElementException\u001b[0m                    Traceback (most recent call last)",
      "\u001b[1;32m<ipython-input-178-c0ab95440cee>\u001b[0m in \u001b[0;36m<module>\u001b[1;34m\u001b[0m\n\u001b[1;32m----> 1\u001b[1;33m \u001b[0mproblem\u001b[0m \u001b[1;33m=\u001b[0m \u001b[0mcontainer\u001b[0m\u001b[1;33m.\u001b[0m\u001b[0mfind_element_by_css_selector\u001b[0m\u001b[1;33m(\u001b[0m\u001b[1;34m'div:nth-child(1) > a > img'\u001b[0m\u001b[1;33m)\u001b[0m\u001b[1;33m\u001b[0m\u001b[1;33m\u001b[0m\u001b[0m\n\u001b[0m",
      "\u001b[1;32m~\\anaconda3\\lib\\site-packages\\selenium\\webdriver\\remote\\webelement.py\u001b[0m in \u001b[0;36mfind_element_by_css_selector\u001b[1;34m(self, css_selector)\u001b[0m\n\u001b[0;32m    428\u001b[0m             \u001b[0melement\u001b[0m \u001b[1;33m=\u001b[0m \u001b[0melement\u001b[0m\u001b[1;33m.\u001b[0m\u001b[0mfind_element_by_css_selector\u001b[0m\u001b[1;33m(\u001b[0m\u001b[1;34m'#foo'\u001b[0m\u001b[1;33m)\u001b[0m\u001b[1;33m\u001b[0m\u001b[1;33m\u001b[0m\u001b[0m\n\u001b[0;32m    429\u001b[0m         \"\"\"\n\u001b[1;32m--> 430\u001b[1;33m         \u001b[1;32mreturn\u001b[0m \u001b[0mself\u001b[0m\u001b[1;33m.\u001b[0m\u001b[0mfind_element\u001b[0m\u001b[1;33m(\u001b[0m\u001b[0mby\u001b[0m\u001b[1;33m=\u001b[0m\u001b[0mBy\u001b[0m\u001b[1;33m.\u001b[0m\u001b[0mCSS_SELECTOR\u001b[0m\u001b[1;33m,\u001b[0m \u001b[0mvalue\u001b[0m\u001b[1;33m=\u001b[0m\u001b[0mcss_selector\u001b[0m\u001b[1;33m)\u001b[0m\u001b[1;33m\u001b[0m\u001b[1;33m\u001b[0m\u001b[0m\n\u001b[0m\u001b[0;32m    431\u001b[0m \u001b[1;33m\u001b[0m\u001b[0m\n\u001b[0;32m    432\u001b[0m     \u001b[1;32mdef\u001b[0m \u001b[0mfind_elements_by_css_selector\u001b[0m\u001b[1;33m(\u001b[0m\u001b[0mself\u001b[0m\u001b[1;33m,\u001b[0m \u001b[0mcss_selector\u001b[0m\u001b[1;33m)\u001b[0m\u001b[1;33m:\u001b[0m\u001b[1;33m\u001b[0m\u001b[1;33m\u001b[0m\u001b[0m\n",
      "\u001b[1;32m~\\anaconda3\\lib\\site-packages\\selenium\\webdriver\\remote\\webelement.py\u001b[0m in \u001b[0;36mfind_element\u001b[1;34m(self, by, value)\u001b[0m\n\u001b[0;32m    656\u001b[0m                 \u001b[0mvalue\u001b[0m \u001b[1;33m=\u001b[0m \u001b[1;34m'[name=\"%s\"]'\u001b[0m \u001b[1;33m%\u001b[0m \u001b[0mvalue\u001b[0m\u001b[1;33m\u001b[0m\u001b[1;33m\u001b[0m\u001b[0m\n\u001b[0;32m    657\u001b[0m \u001b[1;33m\u001b[0m\u001b[0m\n\u001b[1;32m--> 658\u001b[1;33m         return self._execute(Command.FIND_CHILD_ELEMENT,\n\u001b[0m\u001b[0;32m    659\u001b[0m                              {\"using\": by, \"value\": value})['value']\n\u001b[0;32m    660\u001b[0m \u001b[1;33m\u001b[0m\u001b[0m\n",
      "\u001b[1;32m~\\anaconda3\\lib\\site-packages\\selenium\\webdriver\\remote\\webelement.py\u001b[0m in \u001b[0;36m_execute\u001b[1;34m(self, command, params)\u001b[0m\n\u001b[0;32m    631\u001b[0m             \u001b[0mparams\u001b[0m \u001b[1;33m=\u001b[0m \u001b[1;33m{\u001b[0m\u001b[1;33m}\u001b[0m\u001b[1;33m\u001b[0m\u001b[1;33m\u001b[0m\u001b[0m\n\u001b[0;32m    632\u001b[0m         \u001b[0mparams\u001b[0m\u001b[1;33m[\u001b[0m\u001b[1;34m'id'\u001b[0m\u001b[1;33m]\u001b[0m \u001b[1;33m=\u001b[0m \u001b[0mself\u001b[0m\u001b[1;33m.\u001b[0m\u001b[0m_id\u001b[0m\u001b[1;33m\u001b[0m\u001b[1;33m\u001b[0m\u001b[0m\n\u001b[1;32m--> 633\u001b[1;33m         \u001b[1;32mreturn\u001b[0m \u001b[0mself\u001b[0m\u001b[1;33m.\u001b[0m\u001b[0m_parent\u001b[0m\u001b[1;33m.\u001b[0m\u001b[0mexecute\u001b[0m\u001b[1;33m(\u001b[0m\u001b[0mcommand\u001b[0m\u001b[1;33m,\u001b[0m \u001b[0mparams\u001b[0m\u001b[1;33m)\u001b[0m\u001b[1;33m\u001b[0m\u001b[1;33m\u001b[0m\u001b[0m\n\u001b[0m\u001b[0;32m    634\u001b[0m \u001b[1;33m\u001b[0m\u001b[0m\n\u001b[0;32m    635\u001b[0m     \u001b[1;32mdef\u001b[0m \u001b[0mfind_element\u001b[0m\u001b[1;33m(\u001b[0m\u001b[0mself\u001b[0m\u001b[1;33m,\u001b[0m \u001b[0mby\u001b[0m\u001b[1;33m=\u001b[0m\u001b[0mBy\u001b[0m\u001b[1;33m.\u001b[0m\u001b[0mID\u001b[0m\u001b[1;33m,\u001b[0m \u001b[0mvalue\u001b[0m\u001b[1;33m=\u001b[0m\u001b[1;32mNone\u001b[0m\u001b[1;33m)\u001b[0m\u001b[1;33m:\u001b[0m\u001b[1;33m\u001b[0m\u001b[1;33m\u001b[0m\u001b[0m\n",
      "\u001b[1;32m~\\anaconda3\\lib\\site-packages\\selenium\\webdriver\\remote\\webdriver.py\u001b[0m in \u001b[0;36mexecute\u001b[1;34m(self, driver_command, params)\u001b[0m\n\u001b[0;32m    319\u001b[0m         \u001b[0mresponse\u001b[0m \u001b[1;33m=\u001b[0m \u001b[0mself\u001b[0m\u001b[1;33m.\u001b[0m\u001b[0mcommand_executor\u001b[0m\u001b[1;33m.\u001b[0m\u001b[0mexecute\u001b[0m\u001b[1;33m(\u001b[0m\u001b[0mdriver_command\u001b[0m\u001b[1;33m,\u001b[0m \u001b[0mparams\u001b[0m\u001b[1;33m)\u001b[0m\u001b[1;33m\u001b[0m\u001b[1;33m\u001b[0m\u001b[0m\n\u001b[0;32m    320\u001b[0m         \u001b[1;32mif\u001b[0m \u001b[0mresponse\u001b[0m\u001b[1;33m:\u001b[0m\u001b[1;33m\u001b[0m\u001b[1;33m\u001b[0m\u001b[0m\n\u001b[1;32m--> 321\u001b[1;33m             \u001b[0mself\u001b[0m\u001b[1;33m.\u001b[0m\u001b[0merror_handler\u001b[0m\u001b[1;33m.\u001b[0m\u001b[0mcheck_response\u001b[0m\u001b[1;33m(\u001b[0m\u001b[0mresponse\u001b[0m\u001b[1;33m)\u001b[0m\u001b[1;33m\u001b[0m\u001b[1;33m\u001b[0m\u001b[0m\n\u001b[0m\u001b[0;32m    322\u001b[0m             response['value'] = self._unwrap_value(\n\u001b[0;32m    323\u001b[0m                 response.get('value', None))\n",
      "\u001b[1;32m~\\anaconda3\\lib\\site-packages\\selenium\\webdriver\\remote\\errorhandler.py\u001b[0m in \u001b[0;36mcheck_response\u001b[1;34m(self, response)\u001b[0m\n\u001b[0;32m    240\u001b[0m                 \u001b[0malert_text\u001b[0m \u001b[1;33m=\u001b[0m \u001b[0mvalue\u001b[0m\u001b[1;33m[\u001b[0m\u001b[1;34m'alert'\u001b[0m\u001b[1;33m]\u001b[0m\u001b[1;33m.\u001b[0m\u001b[0mget\u001b[0m\u001b[1;33m(\u001b[0m\u001b[1;34m'text'\u001b[0m\u001b[1;33m)\u001b[0m\u001b[1;33m\u001b[0m\u001b[1;33m\u001b[0m\u001b[0m\n\u001b[0;32m    241\u001b[0m             \u001b[1;32mraise\u001b[0m \u001b[0mexception_class\u001b[0m\u001b[1;33m(\u001b[0m\u001b[0mmessage\u001b[0m\u001b[1;33m,\u001b[0m \u001b[0mscreen\u001b[0m\u001b[1;33m,\u001b[0m \u001b[0mstacktrace\u001b[0m\u001b[1;33m,\u001b[0m \u001b[0malert_text\u001b[0m\u001b[1;33m)\u001b[0m\u001b[1;33m\u001b[0m\u001b[1;33m\u001b[0m\u001b[0m\n\u001b[1;32m--> 242\u001b[1;33m         \u001b[1;32mraise\u001b[0m \u001b[0mexception_class\u001b[0m\u001b[1;33m(\u001b[0m\u001b[0mmessage\u001b[0m\u001b[1;33m,\u001b[0m \u001b[0mscreen\u001b[0m\u001b[1;33m,\u001b[0m \u001b[0mstacktrace\u001b[0m\u001b[1;33m)\u001b[0m\u001b[1;33m\u001b[0m\u001b[1;33m\u001b[0m\u001b[0m\n\u001b[0m\u001b[0;32m    243\u001b[0m \u001b[1;33m\u001b[0m\u001b[0m\n\u001b[0;32m    244\u001b[0m     \u001b[1;32mdef\u001b[0m \u001b[0m_value_or_default\u001b[0m\u001b[1;33m(\u001b[0m\u001b[0mself\u001b[0m\u001b[1;33m,\u001b[0m \u001b[0mobj\u001b[0m\u001b[1;33m,\u001b[0m \u001b[0mkey\u001b[0m\u001b[1;33m,\u001b[0m \u001b[0mdefault\u001b[0m\u001b[1;33m)\u001b[0m\u001b[1;33m:\u001b[0m\u001b[1;33m\u001b[0m\u001b[1;33m\u001b[0m\u001b[0m\n",
      "\u001b[1;31mNoSuchElementException\u001b[0m: Message: no such element: Unable to locate element: {\"method\":\"css selector\",\"selector\":\"div:nth-child(1) > a > img\"}\n  (Session info: chrome=92.0.4515.131)\n"
     ]
    }
   ],
   "source": [
    "problem = container.find_element_by_css_selector('div:nth-child(1) > a > img')"
   ]
  },
  {
   "cell_type": "code",
   "execution_count": 173,
   "metadata": {},
   "outputs": [
    {
     "data": {
      "text/plain": [
       "'Diamond III'"
      ]
     },
     "execution_count": 173,
     "metadata": {},
     "output_type": "execute_result"
    }
   ],
   "source": [
    "problem.get_attribute('alt')"
   ]
  },
  {
   "cell_type": "code",
   "execution_count": null,
   "metadata": {},
   "outputs": [],
   "source": []
  },
  {
   "cell_type": "code",
   "execution_count": 148,
   "metadata": {},
   "outputs": [
    {
     "data": {
      "text/plain": [
       "<selenium.webdriver.remote.webelement.WebElement (session=\"5bc3a551f1b6aeb4b0641ca987301871\", element=\"972a5e86-953a-4a2e-bf42-68fb088c0073\")>"
      ]
     },
     "execution_count": 148,
     "metadata": {},
     "output_type": "execute_result"
    }
   ],
   "source": [
    "problem_containers.find_element_by_css_selector('div:nth-child(10)')"
   ]
  },
  {
   "cell_type": "code",
   "execution_count": 168,
   "metadata": {},
   "outputs": [
    {
     "name": "stdout",
     "output_type": "stream",
     "text": [
      "Diamond III\n",
      "Diamond V\n",
      "Diamond V\n",
      "Diamond V\n",
      "Diamond V\n",
      "Diamond V\n",
      "Platinum I\n",
      "Platinum I\n",
      "Platinum I\n",
      "Platinum I\n",
      "Platinum I\n",
      "Platinum I\n",
      "Platinum I\n",
      "Platinum I\n",
      "Platinum I\n",
      "Platinum II\n",
      "Platinum II\n",
      "Platinum II\n",
      "Platinum II\n",
      "Platinum II\n",
      "Platinum II\n",
      "Platinum II\n",
      "Platinum II\n",
      "Platinum III\n",
      "Platinum III\n",
      "Platinum III\n",
      "Platinum III\n",
      "Platinum III\n",
      "Platinum III\n",
      "Platinum III\n",
      "Platinum III\n",
      "Platinum III\n",
      "Platinum III\n",
      "Platinum III\n",
      "Platinum III\n",
      "Platinum III\n",
      "Platinum III\n",
      "Platinum III\n",
      "Platinum III\n",
      "Platinum III\n",
      "Platinum III\n",
      "Platinum III\n",
      "Platinum III\n",
      "Platinum III\n",
      "Platinum III\n",
      "Platinum IV\n",
      "Platinum IV\n",
      "Platinum IV\n",
      "Platinum IV\n",
      "Platinum IV\n",
      "Platinum IV\n",
      "Platinum IV\n",
      "Platinum IV\n",
      "Platinum IV\n",
      "Platinum IV\n",
      "Platinum IV\n",
      "Platinum IV\n",
      "Platinum IV\n",
      "Platinum IV\n",
      "Platinum IV\n",
      "Platinum IV\n",
      "Platinum IV\n",
      "Platinum IV\n",
      "Platinum IV\n",
      "Platinum IV\n",
      "Platinum IV\n",
      "Platinum IV\n",
      "Platinum IV\n",
      "Platinum IV\n",
      "Platinum IV\n",
      "Platinum IV\n",
      "Platinum IV\n",
      "Platinum IV\n",
      "Platinum IV\n",
      "Platinum IV\n",
      "Platinum V\n",
      "Platinum V\n",
      "Platinum V\n",
      "Platinum V\n",
      "Platinum V\n",
      "Platinum V\n",
      "Platinum V\n",
      "Platinum V\n",
      "Platinum V\n",
      "Platinum V\n",
      "Platinum V\n",
      "Platinum V\n",
      "Platinum V\n",
      "Platinum V\n",
      "Platinum V\n",
      "Platinum V\n",
      "Platinum V\n",
      "Platinum V\n",
      "Platinum V\n",
      "Platinum V\n",
      "Platinum V\n",
      "Platinum V\n",
      "Platinum V\n",
      "Platinum V\n",
      "Platinum V\n"
     ]
    }
   ],
   "source": [
    "for i in range(1, 11):\n",
    "    for j in range(1, 11):\n",
    "        problem = problem_containers.find_element_by_css_selector(f'div:nth-child({i}) > div:nth-child({j}) > a > img')\n",
    "        print(problem.get_attribute('alt'))"
   ]
  },
  {
   "cell_type": "code",
   "execution_count": 167,
   "metadata": {
    "scrolled": true
   },
   "outputs": [
    {
     "name": "stdout",
     "output_type": "stream",
     "text": [
      "i 1\n",
      "j 1\n",
      "Diamond III\n",
      "j 2\n",
      "Diamond V\n",
      "j 3\n",
      "Diamond V\n",
      "j 4\n",
      "Diamond V\n",
      "j 5\n",
      "Diamond V\n",
      "j 6\n",
      "Diamond V\n",
      "j 7\n",
      "Platinum I\n",
      "j 8\n",
      "Platinum I\n",
      "j 9\n",
      "Platinum I\n",
      "j 10\n",
      "Platinum I\n",
      "i 2\n",
      "j 1\n"
     ]
    },
    {
     "ename": "NoSuchElementException",
     "evalue": "Message: no such element: Unable to locate element: {\"method\":\"css selector\",\"selector\":\"div:nth-child(1) > a > img\"}\n  (Session info: chrome=92.0.4515.131)\n",
     "output_type": "error",
     "traceback": [
      "\u001b[1;31m---------------------------------------------------------------------------\u001b[0m",
      "\u001b[1;31mNoSuchElementException\u001b[0m                    Traceback (most recent call last)",
      "\u001b[1;32m<ipython-input-167-b75cac8f3e17>\u001b[0m in \u001b[0;36m<module>\u001b[1;34m\u001b[0m\n\u001b[0;32m      4\u001b[0m     \u001b[1;32mfor\u001b[0m \u001b[0mj\u001b[0m \u001b[1;32min\u001b[0m \u001b[0mrange\u001b[0m\u001b[1;33m(\u001b[0m\u001b[1;36m1\u001b[0m\u001b[1;33m,\u001b[0m \u001b[1;36m11\u001b[0m\u001b[1;33m)\u001b[0m\u001b[1;33m:\u001b[0m\u001b[1;33m\u001b[0m\u001b[1;33m\u001b[0m\u001b[0m\n\u001b[0;32m      5\u001b[0m         \u001b[0mprint\u001b[0m\u001b[1;33m(\u001b[0m\u001b[1;34m'j'\u001b[0m\u001b[1;33m,\u001b[0m \u001b[0mj\u001b[0m\u001b[1;33m)\u001b[0m\u001b[1;33m\u001b[0m\u001b[1;33m\u001b[0m\u001b[0m\n\u001b[1;32m----> 6\u001b[1;33m         \u001b[0mproblem\u001b[0m \u001b[1;33m=\u001b[0m \u001b[0mproblem_container\u001b[0m\u001b[1;33m.\u001b[0m\u001b[0mfind_element_by_css_selector\u001b[0m\u001b[1;33m(\u001b[0m\u001b[1;34mf'div:nth-child({j}) > a > img'\u001b[0m\u001b[1;33m)\u001b[0m\u001b[1;33m\u001b[0m\u001b[1;33m\u001b[0m\u001b[0m\n\u001b[0m\u001b[0;32m      7\u001b[0m         \u001b[0mprint\u001b[0m\u001b[1;33m(\u001b[0m\u001b[0mproblem\u001b[0m\u001b[1;33m.\u001b[0m\u001b[0mget_attribute\u001b[0m\u001b[1;33m(\u001b[0m\u001b[1;34m'alt'\u001b[0m\u001b[1;33m)\u001b[0m\u001b[1;33m)\u001b[0m\u001b[1;33m\u001b[0m\u001b[1;33m\u001b[0m\u001b[0m\n",
      "\u001b[1;32m~\\anaconda3\\lib\\site-packages\\selenium\\webdriver\\remote\\webelement.py\u001b[0m in \u001b[0;36mfind_element_by_css_selector\u001b[1;34m(self, css_selector)\u001b[0m\n\u001b[0;32m    428\u001b[0m             \u001b[0melement\u001b[0m \u001b[1;33m=\u001b[0m \u001b[0melement\u001b[0m\u001b[1;33m.\u001b[0m\u001b[0mfind_element_by_css_selector\u001b[0m\u001b[1;33m(\u001b[0m\u001b[1;34m'#foo'\u001b[0m\u001b[1;33m)\u001b[0m\u001b[1;33m\u001b[0m\u001b[1;33m\u001b[0m\u001b[0m\n\u001b[0;32m    429\u001b[0m         \"\"\"\n\u001b[1;32m--> 430\u001b[1;33m         \u001b[1;32mreturn\u001b[0m \u001b[0mself\u001b[0m\u001b[1;33m.\u001b[0m\u001b[0mfind_element\u001b[0m\u001b[1;33m(\u001b[0m\u001b[0mby\u001b[0m\u001b[1;33m=\u001b[0m\u001b[0mBy\u001b[0m\u001b[1;33m.\u001b[0m\u001b[0mCSS_SELECTOR\u001b[0m\u001b[1;33m,\u001b[0m \u001b[0mvalue\u001b[0m\u001b[1;33m=\u001b[0m\u001b[0mcss_selector\u001b[0m\u001b[1;33m)\u001b[0m\u001b[1;33m\u001b[0m\u001b[1;33m\u001b[0m\u001b[0m\n\u001b[0m\u001b[0;32m    431\u001b[0m \u001b[1;33m\u001b[0m\u001b[0m\n\u001b[0;32m    432\u001b[0m     \u001b[1;32mdef\u001b[0m \u001b[0mfind_elements_by_css_selector\u001b[0m\u001b[1;33m(\u001b[0m\u001b[0mself\u001b[0m\u001b[1;33m,\u001b[0m \u001b[0mcss_selector\u001b[0m\u001b[1;33m)\u001b[0m\u001b[1;33m:\u001b[0m\u001b[1;33m\u001b[0m\u001b[1;33m\u001b[0m\u001b[0m\n",
      "\u001b[1;32m~\\anaconda3\\lib\\site-packages\\selenium\\webdriver\\remote\\webelement.py\u001b[0m in \u001b[0;36mfind_element\u001b[1;34m(self, by, value)\u001b[0m\n\u001b[0;32m    656\u001b[0m                 \u001b[0mvalue\u001b[0m \u001b[1;33m=\u001b[0m \u001b[1;34m'[name=\"%s\"]'\u001b[0m \u001b[1;33m%\u001b[0m \u001b[0mvalue\u001b[0m\u001b[1;33m\u001b[0m\u001b[1;33m\u001b[0m\u001b[0m\n\u001b[0;32m    657\u001b[0m \u001b[1;33m\u001b[0m\u001b[0m\n\u001b[1;32m--> 658\u001b[1;33m         return self._execute(Command.FIND_CHILD_ELEMENT,\n\u001b[0m\u001b[0;32m    659\u001b[0m                              {\"using\": by, \"value\": value})['value']\n\u001b[0;32m    660\u001b[0m \u001b[1;33m\u001b[0m\u001b[0m\n",
      "\u001b[1;32m~\\anaconda3\\lib\\site-packages\\selenium\\webdriver\\remote\\webelement.py\u001b[0m in \u001b[0;36m_execute\u001b[1;34m(self, command, params)\u001b[0m\n\u001b[0;32m    631\u001b[0m             \u001b[0mparams\u001b[0m \u001b[1;33m=\u001b[0m \u001b[1;33m{\u001b[0m\u001b[1;33m}\u001b[0m\u001b[1;33m\u001b[0m\u001b[1;33m\u001b[0m\u001b[0m\n\u001b[0;32m    632\u001b[0m         \u001b[0mparams\u001b[0m\u001b[1;33m[\u001b[0m\u001b[1;34m'id'\u001b[0m\u001b[1;33m]\u001b[0m \u001b[1;33m=\u001b[0m \u001b[0mself\u001b[0m\u001b[1;33m.\u001b[0m\u001b[0m_id\u001b[0m\u001b[1;33m\u001b[0m\u001b[1;33m\u001b[0m\u001b[0m\n\u001b[1;32m--> 633\u001b[1;33m         \u001b[1;32mreturn\u001b[0m \u001b[0mself\u001b[0m\u001b[1;33m.\u001b[0m\u001b[0m_parent\u001b[0m\u001b[1;33m.\u001b[0m\u001b[0mexecute\u001b[0m\u001b[1;33m(\u001b[0m\u001b[0mcommand\u001b[0m\u001b[1;33m,\u001b[0m \u001b[0mparams\u001b[0m\u001b[1;33m)\u001b[0m\u001b[1;33m\u001b[0m\u001b[1;33m\u001b[0m\u001b[0m\n\u001b[0m\u001b[0;32m    634\u001b[0m \u001b[1;33m\u001b[0m\u001b[0m\n\u001b[0;32m    635\u001b[0m     \u001b[1;32mdef\u001b[0m \u001b[0mfind_element\u001b[0m\u001b[1;33m(\u001b[0m\u001b[0mself\u001b[0m\u001b[1;33m,\u001b[0m \u001b[0mby\u001b[0m\u001b[1;33m=\u001b[0m\u001b[0mBy\u001b[0m\u001b[1;33m.\u001b[0m\u001b[0mID\u001b[0m\u001b[1;33m,\u001b[0m \u001b[0mvalue\u001b[0m\u001b[1;33m=\u001b[0m\u001b[1;32mNone\u001b[0m\u001b[1;33m)\u001b[0m\u001b[1;33m:\u001b[0m\u001b[1;33m\u001b[0m\u001b[1;33m\u001b[0m\u001b[0m\n",
      "\u001b[1;32m~\\anaconda3\\lib\\site-packages\\selenium\\webdriver\\remote\\webdriver.py\u001b[0m in \u001b[0;36mexecute\u001b[1;34m(self, driver_command, params)\u001b[0m\n\u001b[0;32m    319\u001b[0m         \u001b[0mresponse\u001b[0m \u001b[1;33m=\u001b[0m \u001b[0mself\u001b[0m\u001b[1;33m.\u001b[0m\u001b[0mcommand_executor\u001b[0m\u001b[1;33m.\u001b[0m\u001b[0mexecute\u001b[0m\u001b[1;33m(\u001b[0m\u001b[0mdriver_command\u001b[0m\u001b[1;33m,\u001b[0m \u001b[0mparams\u001b[0m\u001b[1;33m)\u001b[0m\u001b[1;33m\u001b[0m\u001b[1;33m\u001b[0m\u001b[0m\n\u001b[0;32m    320\u001b[0m         \u001b[1;32mif\u001b[0m \u001b[0mresponse\u001b[0m\u001b[1;33m:\u001b[0m\u001b[1;33m\u001b[0m\u001b[1;33m\u001b[0m\u001b[0m\n\u001b[1;32m--> 321\u001b[1;33m             \u001b[0mself\u001b[0m\u001b[1;33m.\u001b[0m\u001b[0merror_handler\u001b[0m\u001b[1;33m.\u001b[0m\u001b[0mcheck_response\u001b[0m\u001b[1;33m(\u001b[0m\u001b[0mresponse\u001b[0m\u001b[1;33m)\u001b[0m\u001b[1;33m\u001b[0m\u001b[1;33m\u001b[0m\u001b[0m\n\u001b[0m\u001b[0;32m    322\u001b[0m             response['value'] = self._unwrap_value(\n\u001b[0;32m    323\u001b[0m                 response.get('value', None))\n",
      "\u001b[1;32m~\\anaconda3\\lib\\site-packages\\selenium\\webdriver\\remote\\errorhandler.py\u001b[0m in \u001b[0;36mcheck_response\u001b[1;34m(self, response)\u001b[0m\n\u001b[0;32m    240\u001b[0m                 \u001b[0malert_text\u001b[0m \u001b[1;33m=\u001b[0m \u001b[0mvalue\u001b[0m\u001b[1;33m[\u001b[0m\u001b[1;34m'alert'\u001b[0m\u001b[1;33m]\u001b[0m\u001b[1;33m.\u001b[0m\u001b[0mget\u001b[0m\u001b[1;33m(\u001b[0m\u001b[1;34m'text'\u001b[0m\u001b[1;33m)\u001b[0m\u001b[1;33m\u001b[0m\u001b[1;33m\u001b[0m\u001b[0m\n\u001b[0;32m    241\u001b[0m             \u001b[1;32mraise\u001b[0m \u001b[0mexception_class\u001b[0m\u001b[1;33m(\u001b[0m\u001b[0mmessage\u001b[0m\u001b[1;33m,\u001b[0m \u001b[0mscreen\u001b[0m\u001b[1;33m,\u001b[0m \u001b[0mstacktrace\u001b[0m\u001b[1;33m,\u001b[0m \u001b[0malert_text\u001b[0m\u001b[1;33m)\u001b[0m\u001b[1;33m\u001b[0m\u001b[1;33m\u001b[0m\u001b[0m\n\u001b[1;32m--> 242\u001b[1;33m         \u001b[1;32mraise\u001b[0m \u001b[0mexception_class\u001b[0m\u001b[1;33m(\u001b[0m\u001b[0mmessage\u001b[0m\u001b[1;33m,\u001b[0m \u001b[0mscreen\u001b[0m\u001b[1;33m,\u001b[0m \u001b[0mstacktrace\u001b[0m\u001b[1;33m)\u001b[0m\u001b[1;33m\u001b[0m\u001b[1;33m\u001b[0m\u001b[0m\n\u001b[0m\u001b[0;32m    243\u001b[0m \u001b[1;33m\u001b[0m\u001b[0m\n\u001b[0;32m    244\u001b[0m     \u001b[1;32mdef\u001b[0m \u001b[0m_value_or_default\u001b[0m\u001b[1;33m(\u001b[0m\u001b[0mself\u001b[0m\u001b[1;33m,\u001b[0m \u001b[0mobj\u001b[0m\u001b[1;33m,\u001b[0m \u001b[0mkey\u001b[0m\u001b[1;33m,\u001b[0m \u001b[0mdefault\u001b[0m\u001b[1;33m)\u001b[0m\u001b[1;33m:\u001b[0m\u001b[1;33m\u001b[0m\u001b[1;33m\u001b[0m\u001b[0m\n",
      "\u001b[1;31mNoSuchElementException\u001b[0m: Message: no such element: Unable to locate element: {\"method\":\"css selector\",\"selector\":\"div:nth-child(1) > a > img\"}\n  (Session info: chrome=92.0.4515.131)\n"
     ]
    }
   ],
   "source": [
    "for i in range(1, 11):\n",
    "    print('i', i)\n",
    "    problem_container = problem_containers.find_element_by_css_selector(f'div:nth-child({i})')\n",
    "    for j in range(1, 11):\n",
    "        print('j', j)\n",
    "        problem = problem_container.find_element_by_css_selector(f'div:nth-child({j}) > a > img')\n",
    "        print(problem.get_attribute('alt'))"
   ]
  },
  {
   "cell_type": "code",
   "execution_count": 179,
   "metadata": {},
   "outputs": [],
   "source": [
    "from collections import defaultdict\n",
    "\n",
    "tier = defaultdict(int)\n",
    "for i in range(1, 11):\n",
    "    for j in range(1, 11):\n",
    "        problem = problem_containers.find_element_by_css_selector(f'div:nth-child({i}) > div:nth-child({j}) > a > img')\n",
    "        tier[problem.get_attribute('alt')] += 1"
   ]
  },
  {
   "cell_type": "code",
   "execution_count": 180,
   "metadata": {},
   "outputs": [
    {
     "data": {
      "text/plain": [
       "defaultdict(int,\n",
       "            {'Diamond III': 1,\n",
       "             'Diamond V': 5,\n",
       "             'Platinum I': 9,\n",
       "             'Platinum II': 8,\n",
       "             'Platinum III': 22,\n",
       "             'Platinum IV': 30,\n",
       "             'Platinum V': 25})"
      ]
     },
     "execution_count": 180,
     "metadata": {},
     "output_type": "execute_result"
    }
   ],
   "source": [
    "tier"
   ]
  },
  {
   "cell_type": "code",
   "execution_count": 197,
   "metadata": {},
   "outputs": [
    {
     "name": "stdout",
     "output_type": "stream",
     "text": [
      "1766\n"
     ]
    }
   ],
   "source": [
    "total = 1\n",
    "for level, num in enumerate(tier.values()):\n",
    "    total += (22 - level) * num\n",
    "print(total)"
   ]
  },
  {
   "cell_type": "code",
   "execution_count": 198,
   "metadata": {},
   "outputs": [
    {
     "data": {
      "text/plain": [
       "1766"
      ]
     },
     "execution_count": 198,
     "metadata": {},
     "output_type": "execute_result"
    }
   ],
   "source": [
    "23 * 1 + 21 * 5 + 20 * 9 + 19 * 8 + 18 * 22 + 17 * 30 + 16 * 25"
   ]
  }
 ],
 "metadata": {
  "kernelspec": {
   "display_name": "Python 3",
   "language": "python",
   "name": "python3"
  },
  "language_info": {
   "codemirror_mode": {
    "name": "ipython",
    "version": 3
   },
   "file_extension": ".py",
   "mimetype": "text/x-python",
   "name": "python",
   "nbconvert_exporter": "python",
   "pygments_lexer": "ipython3",
   "version": "3.8.5"
  }
 },
 "nbformat": 4,
 "nbformat_minor": 4
}
